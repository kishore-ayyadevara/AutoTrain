{
 "cells": [
  {
   "cell_type": "markdown",
   "metadata": {
    "colab_type": "text",
    "id": "view-in-github"
   },
   "source": [
    "<a href=\"https://colab.research.google.com/github/sizhky/AutoTrain/blob/segmentation/nbs/segmentation.ipynb\" target=\"_parent\"><img src=\"https://colab.research.google.com/assets/colab-badge.svg\" alt=\"Open In Colab\"/></a>"
   ]
  },
  {
   "cell_type": "markdown",
   "metadata": {
    "id": "vvYRuYZiX3MM"
   },
   "source": [
    "## Setup Data and Libraries"
   ]
  },
  {
   "cell_type": "code",
   "execution_count": 2,
   "metadata": {
    "id": "oIrJ5qt-X3MQ"
   },
   "outputs": [],
   "source": [
    "%%capture\n",
    "# Setup imports\n",
    "try:\n",
    "    from icevision.all import *\n",
    "except:\n",
    "    !pip install -U torch-snippets typer imgaug\n",
    "    !wget https://raw.githubusercontent.com/airctic/icevision/master/install_colab.sh\n",
    "    !bash install_colab.sh"
   ]
  },
  {
   "cell_type": "code",
   "execution_count": 3,
   "metadata": {
    "colab": {
     "base_uri": "https://localhost:8080/"
    },
    "id": "alIUAVLwXTqC",
    "outputId": "c5ae1db0-6555-4246-d583-5543ec9d79af",
    "tags": []
   },
   "outputs": [
    {
     "name": "stdout",
     "output_type": "stream",
     "text": [
      "/mnt/sda1/code/AutoTrain\n"
     ]
    }
   ],
   "source": [
    "# Setup Data\n",
    "%load_ext autoreload\n",
    "%autoreload 2\n",
    "\n",
    "from torch_snippets import *\n",
    "\n",
    "# If running locally from AutoTrain/nbs\n",
    "if not os.path.exists('/content') and P().resolve().stem != 'AutoTrain':\n",
    "    %cd ..\n",
    "\n",
    "# If running from colab\n",
    "if os.path.exists('/content') and not os.path.exists('/content/AutoTrain'):\n",
    "    !git clone https://github.com/sizhky/AutoTrain\n",
    "\n",
    "# change present working directory\n",
    "if not P().resolve().stem == 'AutoTrain':\n",
    "    %cd AutoTrain\n"
   ]
  },
  {
   "cell_type": "markdown",
   "metadata": {
    "id": "QdN8I3h9X3MS"
   },
   "source": [
    "## Verify Config"
   ]
  },
  {
   "cell_type": "code",
   "execution_count": 3,
   "metadata": {
    "colab": {
     "base_uri": "https://localhost:8080/"
    },
    "id": "PrcRNnKF8BBv",
    "outputId": "c83628a2-fc59-4eed-f446-a7fff76bc4af",
    "tags": []
   },
   "outputs": [
    {
     "name": "stdout",
     "output_type": "stream",
     "text": [
      "[project]\n",
      "owner: sizhky\n",
      "name: balloon\n",
      "location: ${project.name}\n",
      "model_directory: ${project.location}/models\n",
      "num_classes: 1\n",
      "classes: [\"Balloon\"]\n",
      "type: segmentation\n",
      "data_source_url: https://yyr-sample-datasets.s3.us-east-2.amazonaws.com/balloon.tar.xz\n",
      "\n",
      "[architecture]\n",
      "model_type: torchvision.mask_rcnn\n",
      "backbone: resnet34_fpn\n",
      "pretrained: True\n",
      "size: 384\n",
      "[architecture.extra_args]\n",
      "\n",
      "[training]\n",
      "; absolute path, or path relative to AutoTrain folder\n",
      "dir: /home/yyr/data/balloon/\n",
      "; folder should be exported from label studio, \n",
      "; in COCO format for segmentation, i.e., \n",
      "; it should have one images dir and one results.json file\n",
      "images_dir: ${training.dir}/images\n",
      "annotations_file: ${training.dir}/result.json\n",
      "train_ratio: 0.8\n",
      "\n",
      "[training.preprocess]\n",
      "@augmentations: my_train_transforms\n",
      "size: ${architecture.size}\n",
      "presize: 512\n",
      "\n",
      "[training.scheme]\n",
      "epochs: 25\n",
      "freeze_epochs: 5\n",
      "resume_training_from: ${project.model_directory}/model.pt\n",
      "output_path: ${project.model_directory}/model.pt\n",
      "\n",
      "[testing]\n",
      "[testing.preprocess]\n",
      "@augmentations: my_val_transforms\n",
      "size: ${architecture.size}\n",
      "presize: 512\n"
     ]
    }
   ],
   "source": [
    "!cat configs/segmentation.ini"
   ]
  },
  {
   "cell_type": "code",
   "execution_count": null,
   "metadata": {
    "colab": {
     "base_uri": "https://localhost:8080/"
    },
    "id": "uFoIsxeJayP4",
    "outputId": "dacb2ead-5dc1-4e49-90f7-f77be7d87ac2"
   },
   "outputs": [
    {
     "name": "stdout",
     "output_type": "stream",
     "text": [
      "\u001b[1m\u001b[1mINFO    \u001b[0m\u001b[1m\u001b[0m - \u001b[1m\n",
      "CLASSES INFERRED FROM /home/yyr/data/balloon//result.json: <ClassMap: {'background': 0, 'balloon': 1}>\u001b[0m | \u001b[36mauto_train.segmentation.model\u001b[0m:\u001b[36mcreate_parser\u001b[0m:\u001b[36m50\u001b[0m\n",
      "100%|███████████████████████████████████████| 255/255 [00:00<00:00, 3909.11it/s]\n",
      "\u001b[1m\u001b[1mINFO    \u001b[0m\u001b[1m\u001b[0m - \u001b[1m\u001b[34m\u001b[1mAutofixing records\u001b[0m\u001b[1m\u001b[34m\u001b[0m\u001b[1m\u001b[0m | \u001b[36micevision.parsers.parser\u001b[0m:\u001b[36mparse\u001b[0m:\u001b[36m122\u001b[0m\n",
      "100%|█████████████████████████████████████████| 61/61 [00:00<00:00, 4915.99it/s]\n",
      "\u001b[1m\u001b[1mINFO    \u001b[0m\u001b[1m\u001b[0m - \u001b[1mTraining from scratch!\u001b[0m | \u001b[36mauto_train.segmentation.train\u001b[0m:\u001b[36mtrain_model\u001b[0m:\u001b[36m24\u001b[0m\n",
      "/home/yyr/miniconda3/lib/python3.9/site-packages/torch/nn/functional.py:718: UserWarning: Named tensors and all their associated APIs are an experimental feature and subject to change. Please do not use them for anything important until they are released as stable. (Triggered internally at  /pytorch/c10/core/TensorImpl.h:1156.)\n",
      "  return torch.max_pool2d(input, kernel_size, stride, padding, dilation, ceil_mode)\n",
      "\u001b[1m\u001b[1mINFO    \u001b[0m\u001b[1m\u001b[0m - \u001b[1mLR Plot is saved at balloon/find_lr_plot.png\u001b[0m | \u001b[36mauto_train.common.utils\u001b[0m:\u001b[36mfind_best_learning_rate\u001b[0m:\u001b[36m19\u001b[0m\n",
      "\u001b[1m\u001b[1mINFO    \u001b[0m\u001b[1m\u001b[0m - \u001b[1mUsing learning Rate: 0.00019054606673307717\u001b[0m | \u001b[36mauto_train.segmentation.train\u001b[0m:\u001b[36mtrain_model\u001b[0m:\u001b[36m27\u001b[0m\n",
      "['Epoch, Train-Loss, Validation-Loss, Validation-MAP, Time']\n",
      "[0, 3.416799545288086, 2.857189655303955, 0.004671733111191973, '00:06']\n",
      "[1, 2.775777578353882, 2.4327967166900635, 0.008421770838739072, '00:05']\n",
      "[2, 2.390812635421753, 2.229794502258301, 0.012174312332592292, '00:05']\n",
      "[3, 2.1614198684692383, 1.9047096967697144, 0.015835839398961306, '00:04']\n",
      "[4, 1.9296875, 1.751554250717163, 0.01846324356964161, '00:04']\n",
      "[0, 1.4585598707199097, 1.511268138885498, 0.038537699363987106, '00:06']\n",
      "[1, 1.3611929416656494, 1.4555948972702026, 0.030006608837735118, '00:06']\n",
      "[2, 1.2664086818695068, 1.3205220699310303, 0.04081108866385441, '00:05']\n",
      "[3, 1.1706041097640991, 1.2253042459487915, 0.05605314909835616, '00:05']\n",
      "[4, 1.1089240312576294, 1.3006267547607422, 0.05500587603843455, '00:05']\n",
      "[5, 1.094952940940857, 1.1096185445785522, 0.09350453234924061, '00:06']\n"
     ]
    }
   ],
   "source": [
    "!python main.py train --task segmentation --config configs/segmentation.ini"
   ]
  },
  {
   "cell_type": "markdown",
   "metadata": {
    "id": "t4hih3a9X3MW"
   },
   "source": [
    "---\n",
    "## Validate"
   ]
  },
  {
   "cell_type": "code",
   "execution_count": 40,
   "metadata": {
    "colab": {
     "base_uri": "https://localhost:8080/",
     "height": 1000,
     "referenced_widgets": [
      "690db993b5094b3a96cb768d95b02224",
      "5b5eca0260364f26bcd3dbaebab2d576",
      "12683b354c14469c85a6d94cbf108a6a",
      "918d041a343d4f5f9300a76a31f1cbb6",
      "178aec8e78ea4bd295c7904d3229be53",
      "13f7be8044a34854bb9ee8509d1a8979",
      "acd6bb83eab546e79634c3338718c036",
      "154e7bacfcd34737899695d5f63c7b3e",
      "1ebac03bdd0742d0bc4e6c029f9c18d2",
      "b8bed86d27744ff79a7d1ba5c94aa677",
      "8f611c01a088465d85d89e61a20ad22c"
     ]
    },
    "id": "oN76ajz-X3MX",
    "outputId": "9f6aa4fe-7360-4596-8e36-ac3d2f976f39"
   },
   "outputs": [
    {
     "data": {
      "application/vnd.jupyter.widget-view+json": {
       "model_id": "039e43f143284bbfbedb8cab9b991187",
       "version_major": 2,
       "version_minor": 0
      },
      "text/plain": [
       "  0%|          | 0/1 [00:00<?, ?it/s]"
      ]
     },
     "metadata": {},
     "output_type": "display_data"
    },
    {
     "data": {
      "image/png": "[encoded data removed]",
      "text/plain": [
       "<Figure size 500x500 with 2 Axes>"
      ]
     },
     "metadata": {},
     "output_type": "display_data"
    }
   ],
   "source": [
    "from auto_train.segmentation.infer import infer\n",
    "fpath = P('/home/yyr/data/balloon/validation/').sample() # 16335852991_f55de7958d_k.jpg'\n",
    "x = infer(fpath)\n",
    "subplots(x)"
   ]
  },
  {
   "cell_type": "code",
   "execution_count": null,
   "metadata": {},
   "outputs": [],
   "source": []
  }
 ],
 "metadata": {
  "accelerator": "GPU",
  "colab": {
   "collapsed_sections": [],
   "include_colab_link": true,
   "name": "auto_train_segmentation.ipynb",
   "provenance": []
  },
  "kernelspec": {
   "display_name": "Python 3 (ipykernel)",
   "language": "python",
   "name": "python3"
  },
  "language_info": {
   "codemirror_mode": {
    "name": "ipython",
    "version": 3
   },
   "file_extension": ".py",
   "mimetype": "text/x-python",
   "name": "python",
   "nbconvert_exporter": "python",
   "pygments_lexer": "ipython3",
   "version": "3.9.5"
  },
  "widgets": {
   "application/vnd.jupyter.widget-state+json": {
    "12683b354c14469c85a6d94cbf108a6a": {
     "model_module": "@jupyter-widgets/controls",
     "model_module_version": "1.5.0",
     "model_name": "HTMLModel",
     "state": {
      "_dom_classes": [],
      "_model_module": "@jupyter-widgets/controls",
      "_model_module_version": "1.5.0",
      "_model_name": "HTMLModel",
      "_view_count": null,
      "_view_module": "@jupyter-widgets/controls",
      "_view_module_version": "1.5.0",
      "_view_name": "HTMLView",
      "description": "",
      "description_tooltip": null,
      "layout": "IPY_MODEL_acd6bb83eab546e79634c3338718c036",
      "placeholder": "​",
      "style": "IPY_MODEL_13f7be8044a34854bb9ee8509d1a8979",
      "value": "100%"
     }
    },
    "13f7be8044a34854bb9ee8509d1a8979": {
     "model_module": "@jupyter-widgets/controls",
     "model_module_version": "1.5.0",
     "model_name": "DescriptionStyleModel",
     "state": {
      "_model_module": "@jupyter-widgets/controls",
      "_model_module_version": "1.5.0",
      "_model_name": "DescriptionStyleModel",
      "_view_count": null,
      "_view_module": "@jupyter-widgets/base",
      "_view_module_version": "1.2.0",
      "_view_name": "StyleView",
      "description_width": ""
     }
    },
    "154e7bacfcd34737899695d5f63c7b3e": {
     "model_module": "@jupyter-widgets/controls",
     "model_module_version": "1.5.0",
     "model_name": "ProgressStyleModel",
     "state": {
      "_model_module": "@jupyter-widgets/controls",
      "_model_module_version": "1.5.0",
      "_model_name": "ProgressStyleModel",
      "_view_count": null,
      "_view_module": "@jupyter-widgets/base",
      "_view_module_version": "1.2.0",
      "_view_name": "StyleView",
      "bar_color": null,
      "description_width": ""
     }
    },
    "178aec8e78ea4bd295c7904d3229be53": {
     "model_module": "@jupyter-widgets/controls",
     "model_module_version": "1.5.0",
     "model_name": "HTMLModel",
     "state": {
      "_dom_classes": [],
      "_model_module": "@jupyter-widgets/controls",
      "_model_module_version": "1.5.0",
      "_model_name": "HTMLModel",
      "_view_count": null,
      "_view_module": "@jupyter-widgets/controls",
      "_view_module_version": "1.5.0",
      "_view_name": "HTMLView",
      "description": "",
      "description_tooltip": null,
      "layout": "IPY_MODEL_8f611c01a088465d85d89e61a20ad22c",
      "placeholder": "​",
      "style": "IPY_MODEL_b8bed86d27744ff79a7d1ba5c94aa677",
      "value": " 4/4 [00:11&lt;00:00,  2.88s/it]"
     }
    },
    "1ebac03bdd0742d0bc4e6c029f9c18d2": {
     "model_module": "@jupyter-widgets/base",
     "model_module_version": "1.2.0",
     "model_name": "LayoutModel",
     "state": {
      "_model_module": "@jupyter-widgets/base",
      "_model_module_version": "1.2.0",
      "_model_name": "LayoutModel",
      "_view_count": null,
      "_view_module": "@jupyter-widgets/base",
      "_view_module_version": "1.2.0",
      "_view_name": "LayoutView",
      "align_content": null,
      "align_items": null,
      "align_self": null,
      "border": null,
      "bottom": null,
      "display": null,
      "flex": null,
      "flex_flow": null,
      "grid_area": null,
      "grid_auto_columns": null,
      "grid_auto_flow": null,
      "grid_auto_rows": null,
      "grid_column": null,
      "grid_gap": null,
      "grid_row": null,
      "grid_template_areas": null,
      "grid_template_columns": null,
      "grid_template_rows": null,
      "height": null,
      "justify_content": null,
      "justify_items": null,
      "left": null,
      "margin": null,
      "max_height": null,
      "max_width": null,
      "min_height": null,
      "min_width": null,
      "object_fit": null,
      "object_position": null,
      "order": null,
      "overflow": null,
      "overflow_x": null,
      "overflow_y": null,
      "padding": null,
      "right": null,
      "top": null,
      "visibility": null,
      "width": null
     }
    },
    "5b5eca0260364f26bcd3dbaebab2d576": {
     "model_module": "@jupyter-widgets/base",
     "model_module_version": "1.2.0",
     "model_name": "LayoutModel",
     "state": {
      "_model_module": "@jupyter-widgets/base",
      "_model_module_version": "1.2.0",
      "_model_name": "LayoutModel",
      "_view_count": null,
      "_view_module": "@jupyter-widgets/base",
      "_view_module_version": "1.2.0",
      "_view_name": "LayoutView",
      "align_content": null,
      "align_items": null,
      "align_self": null,
      "border": null,
      "bottom": null,
      "display": null,
      "flex": null,
      "flex_flow": null,
      "grid_area": null,
      "grid_auto_columns": null,
      "grid_auto_flow": null,
      "grid_auto_rows": null,
      "grid_column": null,
      "grid_gap": null,
      "grid_row": null,
      "grid_template_areas": null,
      "grid_template_columns": null,
      "grid_template_rows": null,
      "height": null,
      "justify_content": null,
      "justify_items": null,
      "left": null,
      "margin": null,
      "max_height": null,
      "max_width": null,
      "min_height": null,
      "min_width": null,
      "object_fit": null,
      "object_position": null,
      "order": null,
      "overflow": null,
      "overflow_x": null,
      "overflow_y": null,
      "padding": null,
      "right": null,
      "top": null,
      "visibility": null,
      "width": null
     }
    },
    "690db993b5094b3a96cb768d95b02224": {
     "model_module": "@jupyter-widgets/controls",
     "model_module_version": "1.5.0",
     "model_name": "HBoxModel",
     "state": {
      "_dom_classes": [],
      "_model_module": "@jupyter-widgets/controls",
      "_model_module_version": "1.5.0",
      "_model_name": "HBoxModel",
      "_view_count": null,
      "_view_module": "@jupyter-widgets/controls",
      "_view_module_version": "1.5.0",
      "_view_name": "HBoxView",
      "box_style": "",
      "children": [
       "IPY_MODEL_12683b354c14469c85a6d94cbf108a6a",
       "IPY_MODEL_918d041a343d4f5f9300a76a31f1cbb6",
       "IPY_MODEL_178aec8e78ea4bd295c7904d3229be53"
      ],
      "layout": "IPY_MODEL_5b5eca0260364f26bcd3dbaebab2d576"
     }
    },
    "8f611c01a088465d85d89e61a20ad22c": {
     "model_module": "@jupyter-widgets/base",
     "model_module_version": "1.2.0",
     "model_name": "LayoutModel",
     "state": {
      "_model_module": "@jupyter-widgets/base",
      "_model_module_version": "1.2.0",
      "_model_name": "LayoutModel",
      "_view_count": null,
      "_view_module": "@jupyter-widgets/base",
      "_view_module_version": "1.2.0",
      "_view_name": "LayoutView",
      "align_content": null,
      "align_items": null,
      "align_self": null,
      "border": null,
      "bottom": null,
      "display": null,
      "flex": null,
      "flex_flow": null,
      "grid_area": null,
      "grid_auto_columns": null,
      "grid_auto_flow": null,
      "grid_auto_rows": null,
      "grid_column": null,
      "grid_gap": null,
      "grid_row": null,
      "grid_template_areas": null,
      "grid_template_columns": null,
      "grid_template_rows": null,
      "height": null,
      "justify_content": null,
      "justify_items": null,
      "left": null,
      "margin": null,
      "max_height": null,
      "max_width": null,
      "min_height": null,
      "min_width": null,
      "object_fit": null,
      "object_position": null,
      "order": null,
      "overflow": null,
      "overflow_x": null,
      "overflow_y": null,
      "padding": null,
      "right": null,
      "top": null,
      "visibility": null,
      "width": null
     }
    },
    "918d041a343d4f5f9300a76a31f1cbb6": {
     "model_module": "@jupyter-widgets/controls",
     "model_module_version": "1.5.0",
     "model_name": "FloatProgressModel",
     "state": {
      "_dom_classes": [],
      "_model_module": "@jupyter-widgets/controls",
      "_model_module_version": "1.5.0",
      "_model_name": "FloatProgressModel",
      "_view_count": null,
      "_view_module": "@jupyter-widgets/controls",
      "_view_module_version": "1.5.0",
      "_view_name": "ProgressView",
      "bar_style": "success",
      "description": "",
      "description_tooltip": null,
      "layout": "IPY_MODEL_1ebac03bdd0742d0bc4e6c029f9c18d2",
      "max": 4,
      "min": 0,
      "orientation": "horizontal",
      "style": "IPY_MODEL_154e7bacfcd34737899695d5f63c7b3e",
      "value": 4
     }
    },
    "acd6bb83eab546e79634c3338718c036": {
     "model_module": "@jupyter-widgets/base",
     "model_module_version": "1.2.0",
     "model_name": "LayoutModel",
     "state": {
      "_model_module": "@jupyter-widgets/base",
      "_model_module_version": "1.2.0",
      "_model_name": "LayoutModel",
      "_view_count": null,
      "_view_module": "@jupyter-widgets/base",
      "_view_module_version": "1.2.0",
      "_view_name": "LayoutView",
      "align_content": null,
      "align_items": null,
      "align_self": null,
      "border": null,
      "bottom": null,
      "display": null,
      "flex": null,
      "flex_flow": null,
      "grid_area": null,
      "grid_auto_columns": null,
      "grid_auto_flow": null,
      "grid_auto_rows": null,
      "grid_column": null,
      "grid_gap": null,
      "grid_row": null,
      "grid_template_areas": null,
      "grid_template_columns": null,
      "grid_template_rows": null,
      "height": null,
      "justify_content": null,
      "justify_items": null,
      "left": null,
      "margin": null,
      "max_height": null,
      "max_width": null,
      "min_height": null,
      "min_width": null,
      "object_fit": null,
      "object_position": null,
      "order": null,
      "overflow": null,
      "overflow_x": null,
      "overflow_y": null,
      "padding": null,
      "right": null,
      "top": null,
      "visibility": null,
      "width": null
     }
    },
    "b8bed86d27744ff79a7d1ba5c94aa677": {
     "model_module": "@jupyter-widgets/controls",
     "model_module_version": "1.5.0",
     "model_name": "DescriptionStyleModel",
     "state": {
      "_model_module": "@jupyter-widgets/controls",
      "_model_module_version": "1.5.0",
      "_model_name": "DescriptionStyleModel",
      "_view_count": null,
      "_view_module": "@jupyter-widgets/base",
      "_view_module_version": "1.2.0",
      "_view_name": "StyleView",
      "description_width": ""
     }
    }
   }
  }
 },
 "nbformat": 4,
 "nbformat_minor": 4
}
