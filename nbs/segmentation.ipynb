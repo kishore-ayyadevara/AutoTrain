{
 "cells": [
  {
   "cell_type": "markdown",
   "metadata": {
    "colab_type": "text",
    "id": "view-in-github"
   },
   "source": [
    "<a href=\"https://colab.research.google.com/github/sizhky/AutoTrain/blob/segmentation/nbs/segmentation.ipynb\" target=\"_parent\"><img src=\"https://colab.research.google.com/assets/colab-badge.svg\" alt=\"Open In Colab\"/></a>"
   ]
  },
  {
   "cell_type": "markdown",
   "metadata": {},
   "source": [
    "## Setup Data and Libraries"
   ]
  },
  {
   "cell_type": "code",
   "execution_count": 1,
   "metadata": {},
   "outputs": [],
   "source": [
    "%%capture\n",
    "try:\n",
    "    from icevision.all import *\n",
    "except:\n",
    "    !pip install -U torch-snippets typer imgaug\n",
    "    !wget https://raw.githubusercontent.com/airctic/icevision/master/install_colab.sh\n",
    "    !bash install_colab.sh"
   ]
  },
  {
   "cell_type": "code",
   "execution_count": null,
   "metadata": {
    "colab": {
     "base_uri": "https://localhost:8080/"
    },
    "id": "alIUAVLwXTqC",
    "outputId": "ba59763a-bac5-45bd-9737-90f460d2440b",
    "tags": []
   },
   "outputs": [],
   "source": [
    "# Setup Data\n",
    "# %%capture\n",
    "%load_ext autoreload\n",
    "%autoreload 2\n",
    "\n",
    "from torch_snippets import *\n",
    "\n",
    "# If running locally from AutoTrain/nbs\n",
    "if not os.path.exists('/content') and P().resolve().stem != 'AutoTrain':\n",
    "    %cd ..\n",
    "\n",
    "# If running from colab\n",
    "if os.path.exists('/content') and not os.path.exists('/content/AutoTrain'):\n",
    "    !git clone https://github.com/sizhky/AutoTrain\n",
    "\n",
    "# change present working directory\n",
    "if not P().resolve().stem == 'AutoTrain':\n",
    "    %cd AutoTrain\n",
    "\n",
    "!git pull origin segmentation\n",
    "!git checkout segmentation\n",
    "\n",
    "if not os.path.exists('balloon.zip'):\n",
    "    !wget --quiet https://www.dropbox.com/s/tur7gzmuuzb2vzf/balloon.zip -O balloon.zip\n",
    "if not os.path.exists('balloon/data/'):\n",
    "    makedir('balloon')\n",
    "    unzip_file('balloon.zip', 'balloon/data/')"
   ]
  },
  {
   "cell_type": "markdown",
   "metadata": {},
   "source": [
    "## Verify Config"
   ]
  },
  {
   "cell_type": "code",
   "execution_count": 4,
   "metadata": {
    "colab": {
     "base_uri": "https://localhost:8080/"
    },
    "execution": {
     "iopub.execute_input": "2021-08-31T08:09:58.598196Z",
     "iopub.status.busy": "2021-08-31T08:09:58.597877Z",
     "iopub.status.idle": "2021-08-31T08:09:58.784922Z",
     "shell.execute_reply": "2021-08-31T08:09:58.783815Z",
     "shell.execute_reply.started": "2021-08-31T08:09:58.598167Z"
    },
    "id": "PrcRNnKF8BBv",
    "outputId": "e5a037c7-a3ae-45c7-a7b4-946443e5d7ac",
    "tags": []
   },
   "outputs": [
    {
     "name": "stdout",
     "output_type": "stream",
     "text": [
      "[project]\n",
      "owner: sizhky\n",
      "name: baloons\n",
      "location: ${project.name}\n",
      "model_directory: ${project.location}/models\n",
      "num_classes: 1\n",
      "classes: [\"Balloon\"]\n",
      "type: segmentation\n",
      "\n",
      "[architecture]\n",
      "model_type: torchvision.mask_rcnn\n",
      "backbone: resnet34_fpn\n",
      "pretrained: True\n",
      "size: 384\n",
      "[architecture.extra_args]\n",
      "\n",
      "[training]\n",
      "; absolute path, or path relative to AutoTrain folder\n",
      "dir: balloon/data/balloon\n",
      "; folder should be exported from label studio, \n",
      "; in COCO format for segmentation, i.e., \n",
      "; it should have one images dir and one results.json file\n",
      "images_dir: ${training.dir}/images\n",
      "annotations_file: ${training.dir}/result.json\n",
      "train_ratio: 0.8\n",
      "\n",
      "[training.preprocess]\n",
      "@augmentations: get_train_transforms\n",
      "size: ${architecture.size}\n",
      "presize: 512\n",
      "\n",
      "[training.scheme]\n",
      "epochs: 20\n",
      "lr: 1e-4\n",
      "freeze_epochs: 1\n",
      "resume_training_from: ${project.model_directory}/model.pt\n",
      "output_path: ${project.model_directory}/model.pt\n",
      "\n",
      "[testing]\n",
      "[testing.preprocess]\n",
      "@augmentations: get_val_transforms\n",
      "size: ${architecture.size}\n",
      "presize: 512\n"
     ]
    }
   ],
   "source": [
    "!cat config_segmentation.ini"
   ]
  },
  {
   "cell_type": "code",
   "execution_count": null,
   "metadata": {},
   "outputs": [
    {
     "name": "stdout",
     "output_type": "stream",
     "text": [
      "\u001b[1m\u001b[1mINFO    \u001b[0m\u001b[1m\u001b[0m - \u001b[1m\n",
      "CLASSES INFERRED FROM balloon/data/balloon/result.json: <ClassMap: {'background': 0, 'balloon': 1}>\u001b[0m | \u001b[36m__main__\u001b[0m:\u001b[36m<module>\u001b[0m:\u001b[36m34\u001b[0m\n",
      "100%|████████████████████████████████████████| 255/255 [00:00<00:00, 518.04it/s]\n",
      "\u001b[1m\u001b[1mINFO    \u001b[0m\u001b[1m\u001b[0m - \u001b[1m\u001b[34m\u001b[1mAutofixing records\u001b[0m\u001b[1m\u001b[34m\u001b[0m\u001b[1m\u001b[0m | \u001b[36micevision.parsers.parser\u001b[0m:\u001b[36mparse\u001b[0m:\u001b[36m136\u001b[0m\n",
      "100%|█████████████████████████████████████████| 48/48 [00:00<00:00, 6621.50it/s]\n",
      "100%|█████████████████████████████████████████| 13/13 [00:00<00:00, 5991.20it/s]\n",
      "\u001b[1m\u001b[1mINFO    \u001b[0m\u001b[1m\u001b[0m - \u001b[1mLR Plot is saved at baloons/find_lr_plot.png\u001b[0m | \u001b[36m__main__\u001b[0m:\u001b[36mfind_best_learning_rate\u001b[0m:\u001b[36m80\u001b[0m\n",
      "\u001b[1m\u001b[1mINFO    \u001b[0m\u001b[1m\u001b[0m - \u001b[1mSuggested LRs: 0.0006309573538601399 and 1.4454397387453355e-05\u001b[0m | \u001b[36m__main__\u001b[0m:\u001b[36mfind_best_learning_rate\u001b[0m:\u001b[36m81\u001b[0m\n"
     ]
    }
   ],
   "source": [
    "os.environ['CONFIG'] = 'config_segmentation.ini'\n",
    "!python auto_train_segmentation/train.py find-best-learning-rate"
   ]
  },
  {
   "cell_type": "code",
   "execution_count": 33,
   "metadata": {
    "colab": {
     "base_uri": "https://localhost:8080/"
    },
    "id": "uFoIsxeJayP4",
    "outputId": "a9f7f8aa-80f0-44e3-be57-426b5b171a9c"
   },
   "outputs": [
    {
     "name": "stdout",
     "output_type": "stream",
     "text": [
      "\u001b[1m\u001b[1mINFO    \u001b[0m\u001b[1m\u001b[0m - \u001b[1m\n",
      "CLASSES INFERRED FROM balloon/data/balloon/result.json: <ClassMap: {'background': 0, 'balloon': 1}>\u001b[0m | \u001b[36m__main__\u001b[0m:\u001b[36m<module>\u001b[0m:\u001b[36m34\u001b[0m\n",
      "100%|███████████████████████████████████████| 255/255 [00:00<00:00, 2244.67it/s]\n",
      "\u001b[1m\u001b[1mINFO    \u001b[0m\u001b[1m\u001b[0m - \u001b[1m\u001b[34m\u001b[1mAutofixing records\u001b[0m\u001b[1m\u001b[34m\u001b[0m\u001b[1m\u001b[0m | \u001b[36micevision.parsers.parser\u001b[0m:\u001b[36mparse\u001b[0m:\u001b[36m136\u001b[0m\n",
      "100%|████████████████████████████████████████| 48/48 [00:00<00:00, 11119.33it/s]\n",
      "100%|████████████████████████████████████████| 13/13 [00:00<00:00, 13218.41it/s]\n",
      "\u001b[1m\u001b[1mINFO    \u001b[0m\u001b[1m\u001b[0m - \u001b[1mLoaded weights from baloons/models/model.pt to given model\u001b[0m | \u001b[36m__main__\u001b[0m:\u001b[36mtrain_model\u001b[0m:\u001b[36m87\u001b[0m\n",
      "[0, 1.078104853630066, 0.80428147315979, 0.15314963017105154, '00:07']\n",
      "[0, 1.056432843208313, 0.809590756893158, 0.16396020767439654, '00:08']\n",
      "[1, 1.0458848476409912, 0.8110312819480896, 0.1521259160799801, '00:08']\n",
      "[2, 1.047467589378357, 0.8237537741661072, 0.13200266981122477, '00:08']\n",
      "[3, 1.0257574319839478, 0.817683219909668, 0.13218423967902862, '00:07']\n",
      "[4, 1.028222680091858, 0.8430755138397217, 0.12064020289547524, '00:08']\n",
      "[5, 1.0255986452102661, 0.8170281052589417, 0.13825889154935847, '00:07']\n",
      "[6, 1.0311779975891113, 0.812705397605896, 0.17088530631647558, '00:07']\n",
      "[7, 1.0239531993865967, 0.8265902400016785, 0.20585933801196038, '00:07']\n",
      "[8, 1.0263110399246216, 0.8494319319725037, 0.21016020072104494, '00:07']\n",
      "[9, 1.0204929113388062, 0.8485885858535767, 0.22350125273906543, '00:08']\n",
      "[10, 1.0266642570495605, 0.8511703014373779, 0.17615687884835876, '00:07']\n",
      "[11, 1.0225918292999268, 0.838398814201355, 0.23304224198614745, '00:08']\n",
      "[12, 1.0270825624465942, 0.8364245891571045, 0.24474931252716062, '00:08']\n",
      "[13, 1.0162312984466553, 0.8154554963111877, 0.2589920931181721, '00:08']\n",
      "[14, 1.0060771703720093, 0.8099334239959717, 0.2852959989130003, '00:07']\n",
      "[15, 0.9913848638534546, 0.8047380447387695, 0.2789505826356626, '00:08']\n",
      "[16, 0.9822820425033569, 0.8090187907218933, 0.2831800986993603, '00:08']\n",
      "[17, 0.9686373472213745, 0.8008101582527161, 0.2865266657448079, '00:06']\n",
      "[18, 0.9634178876876831, 0.8065489530563354, 0.28424356482600227, '00:06']\n",
      "[19, 0.9512739181518555, 0.802004873752594, 0.2842558934714286, '00:07']\n",
      "\u001b[1m\u001b[1mINFO    \u001b[0m\u001b[1m\u001b[0m - \u001b[1mSaved weights of size ~156 MB to baloons/models/model.pt\u001b[0m | \u001b[36m__main__\u001b[0m:\u001b[36mtrain_model\u001b[0m:\u001b[36m102\u001b[0m\n"
     ]
    }
   ],
   "source": [
    "os.environ['CONFIG'] = 'config_segmentation.ini'\n",
    "!python auto_train_segmentation/train.py train-model --lr 4.365158267319202e-05"
   ]
  },
  {
   "cell_type": "markdown",
   "metadata": {},
   "source": [
    "---\n",
    "## Validate"
   ]
  },
  {
   "cell_type": "code",
   "execution_count": null,
   "metadata": {},
   "outputs": [],
   "source": [
    "!python auto_train_segmentation/infer.py balloon/data/balloon/validation"
   ]
  },
  {
   "cell_type": "code",
   "execution_count": null,
   "metadata": {},
   "outputs": [],
   "source": []
  }
 ],
 "metadata": {
  "accelerator": "GPU",
  "colab": {
   "authorship_tag": "ABX9TyOZO0oMOQl7b6NxBVoNBCIj",
   "collapsed_sections": [],
   "include_colab_link": true,
   "name": "auto_train_segmentation.ipynb",
   "provenance": []
  },
  "kernelspec": {
   "display_name": "Python 3",
   "language": "python",
   "name": "python3"
  },
  "language_info": {
   "codemirror_mode": {
    "name": "ipython",
    "version": 3
   },
   "file_extension": ".py",
   "mimetype": "text/x-python",
   "name": "python",
   "nbconvert_exporter": "python",
   "pygments_lexer": "ipython3",
   "version": "3.7.4"
  },
  "widgets": {
   "application/vnd.jupyter.widget-state+json": {
    "0f673d1fe53d49f69b4ca1a3a2f6fdfa": {
     "model_module": "@jupyter-widgets/controls",
     "model_module_version": "1.5.0",
     "model_name": "FloatProgressModel",
     "state": {
      "_dom_classes": [],
      "_model_module": "@jupyter-widgets/controls",
      "_model_module_version": "1.5.0",
      "_model_name": "FloatProgressModel",
      "_view_count": null,
      "_view_module": "@jupyter-widgets/controls",
      "_view_module_version": "1.5.0",
      "_view_name": "ProgressView",
      "bar_style": "success",
      "description": "",
      "description_tooltip": null,
      "layout": "IPY_MODEL_b3d180e3bf7049de887fa6851a14ff00",
      "max": 13,
      "min": 0,
      "orientation": "horizontal",
      "style": "IPY_MODEL_51f1375282354794882088a5489eacda",
      "value": 13
     }
    },
    "18e128b90f414859863699468fe36b59": {
     "model_module": "@jupyter-widgets/controls",
     "model_module_version": "1.5.0",
     "model_name": "HTMLModel",
     "state": {
      "_dom_classes": [],
      "_model_module": "@jupyter-widgets/controls",
      "_model_module_version": "1.5.0",
      "_model_name": "HTMLModel",
      "_view_count": null,
      "_view_module": "@jupyter-widgets/controls",
      "_view_module_version": "1.5.0",
      "_view_name": "HTMLView",
      "description": "",
      "description_tooltip": null,
      "layout": "IPY_MODEL_74991c75e0b4464f8d5ef03d2fd7e900",
      "placeholder": "​",
      "style": "IPY_MODEL_cf161d4ed514432484fde8c42d87d230",
      "value": "100%"
     }
    },
    "3a1bbd0f48c8407e860327a0dcb9f67e": {
     "model_module": "@jupyter-widgets/base",
     "model_module_version": "1.2.0",
     "model_name": "LayoutModel",
     "state": {
      "_model_module": "@jupyter-widgets/base",
      "_model_module_version": "1.2.0",
      "_model_name": "LayoutModel",
      "_view_count": null,
      "_view_module": "@jupyter-widgets/base",
      "_view_module_version": "1.2.0",
      "_view_name": "LayoutView",
      "align_content": null,
      "align_items": null,
      "align_self": null,
      "border": null,
      "bottom": null,
      "display": null,
      "flex": null,
      "flex_flow": null,
      "grid_area": null,
      "grid_auto_columns": null,
      "grid_auto_flow": null,
      "grid_auto_rows": null,
      "grid_column": null,
      "grid_gap": null,
      "grid_row": null,
      "grid_template_areas": null,
      "grid_template_columns": null,
      "grid_template_rows": null,
      "height": null,
      "justify_content": null,
      "justify_items": null,
      "left": null,
      "margin": null,
      "max_height": null,
      "max_width": null,
      "min_height": null,
      "min_width": null,
      "object_fit": null,
      "object_position": null,
      "order": null,
      "overflow": null,
      "overflow_x": null,
      "overflow_y": null,
      "padding": null,
      "right": null,
      "top": null,
      "visibility": null,
      "width": null
     }
    },
    "4f5b912ed8bd4e7fa181282ab369c125": {
     "model_module": "@jupyter-widgets/base",
     "model_module_version": "1.2.0",
     "model_name": "LayoutModel",
     "state": {
      "_model_module": "@jupyter-widgets/base",
      "_model_module_version": "1.2.0",
      "_model_name": "LayoutModel",
      "_view_count": null,
      "_view_module": "@jupyter-widgets/base",
      "_view_module_version": "1.2.0",
      "_view_name": "LayoutView",
      "align_content": null,
      "align_items": null,
      "align_self": null,
      "border": null,
      "bottom": null,
      "display": null,
      "flex": null,
      "flex_flow": null,
      "grid_area": null,
      "grid_auto_columns": null,
      "grid_auto_flow": null,
      "grid_auto_rows": null,
      "grid_column": null,
      "grid_gap": null,
      "grid_row": null,
      "grid_template_areas": null,
      "grid_template_columns": null,
      "grid_template_rows": null,
      "height": null,
      "justify_content": null,
      "justify_items": null,
      "left": null,
      "margin": null,
      "max_height": null,
      "max_width": null,
      "min_height": null,
      "min_width": null,
      "object_fit": null,
      "object_position": null,
      "order": null,
      "overflow": null,
      "overflow_x": null,
      "overflow_y": null,
      "padding": null,
      "right": null,
      "top": null,
      "visibility": null,
      "width": null
     }
    },
    "51f1375282354794882088a5489eacda": {
     "model_module": "@jupyter-widgets/controls",
     "model_module_version": "1.5.0",
     "model_name": "ProgressStyleModel",
     "state": {
      "_model_module": "@jupyter-widgets/controls",
      "_model_module_version": "1.5.0",
      "_model_name": "ProgressStyleModel",
      "_view_count": null,
      "_view_module": "@jupyter-widgets/base",
      "_view_module_version": "1.2.0",
      "_view_name": "StyleView",
      "bar_color": null,
      "description_width": ""
     }
    },
    "69301eba2eac4fc6820b5fc90b696047": {
     "model_module": "@jupyter-widgets/controls",
     "model_module_version": "1.5.0",
     "model_name": "HTMLModel",
     "state": {
      "_dom_classes": [],
      "_model_module": "@jupyter-widgets/controls",
      "_model_module_version": "1.5.0",
      "_model_name": "HTMLModel",
      "_view_count": null,
      "_view_module": "@jupyter-widgets/controls",
      "_view_module_version": "1.5.0",
      "_view_name": "HTMLView",
      "description": "",
      "description_tooltip": null,
      "layout": "IPY_MODEL_3a1bbd0f48c8407e860327a0dcb9f67e",
      "placeholder": "​",
      "style": "IPY_MODEL_9f0a8b2a9d114a63b0b714791b569490",
      "value": " 13/13 [00:33&lt;00:00,  2.64s/it]"
     }
    },
    "74991c75e0b4464f8d5ef03d2fd7e900": {
     "model_module": "@jupyter-widgets/base",
     "model_module_version": "1.2.0",
     "model_name": "LayoutModel",
     "state": {
      "_model_module": "@jupyter-widgets/base",
      "_model_module_version": "1.2.0",
      "_model_name": "LayoutModel",
      "_view_count": null,
      "_view_module": "@jupyter-widgets/base",
      "_view_module_version": "1.2.0",
      "_view_name": "LayoutView",
      "align_content": null,
      "align_items": null,
      "align_self": null,
      "border": null,
      "bottom": null,
      "display": null,
      "flex": null,
      "flex_flow": null,
      "grid_area": null,
      "grid_auto_columns": null,
      "grid_auto_flow": null,
      "grid_auto_rows": null,
      "grid_column": null,
      "grid_gap": null,
      "grid_row": null,
      "grid_template_areas": null,
      "grid_template_columns": null,
      "grid_template_rows": null,
      "height": null,
      "justify_content": null,
      "justify_items": null,
      "left": null,
      "margin": null,
      "max_height": null,
      "max_width": null,
      "min_height": null,
      "min_width": null,
      "object_fit": null,
      "object_position": null,
      "order": null,
      "overflow": null,
      "overflow_x": null,
      "overflow_y": null,
      "padding": null,
      "right": null,
      "top": null,
      "visibility": null,
      "width": null
     }
    },
    "9f0a8b2a9d114a63b0b714791b569490": {
     "model_module": "@jupyter-widgets/controls",
     "model_module_version": "1.5.0",
     "model_name": "DescriptionStyleModel",
     "state": {
      "_model_module": "@jupyter-widgets/controls",
      "_model_module_version": "1.5.0",
      "_model_name": "DescriptionStyleModel",
      "_view_count": null,
      "_view_module": "@jupyter-widgets/base",
      "_view_module_version": "1.2.0",
      "_view_name": "StyleView",
      "description_width": ""
     }
    },
    "b3d180e3bf7049de887fa6851a14ff00": {
     "model_module": "@jupyter-widgets/base",
     "model_module_version": "1.2.0",
     "model_name": "LayoutModel",
     "state": {
      "_model_module": "@jupyter-widgets/base",
      "_model_module_version": "1.2.0",
      "_model_name": "LayoutModel",
      "_view_count": null,
      "_view_module": "@jupyter-widgets/base",
      "_view_module_version": "1.2.0",
      "_view_name": "LayoutView",
      "align_content": null,
      "align_items": null,
      "align_self": null,
      "border": null,
      "bottom": null,
      "display": null,
      "flex": null,
      "flex_flow": null,
      "grid_area": null,
      "grid_auto_columns": null,
      "grid_auto_flow": null,
      "grid_auto_rows": null,
      "grid_column": null,
      "grid_gap": null,
      "grid_row": null,
      "grid_template_areas": null,
      "grid_template_columns": null,
      "grid_template_rows": null,
      "height": null,
      "justify_content": null,
      "justify_items": null,
      "left": null,
      "margin": null,
      "max_height": null,
      "max_width": null,
      "min_height": null,
      "min_width": null,
      "object_fit": null,
      "object_position": null,
      "order": null,
      "overflow": null,
      "overflow_x": null,
      "overflow_y": null,
      "padding": null,
      "right": null,
      "top": null,
      "visibility": null,
      "width": null
     }
    },
    "cf161d4ed514432484fde8c42d87d230": {
     "model_module": "@jupyter-widgets/controls",
     "model_module_version": "1.5.0",
     "model_name": "DescriptionStyleModel",
     "state": {
      "_model_module": "@jupyter-widgets/controls",
      "_model_module_version": "1.5.0",
      "_model_name": "DescriptionStyleModel",
      "_view_count": null,
      "_view_module": "@jupyter-widgets/base",
      "_view_module_version": "1.2.0",
      "_view_name": "StyleView",
      "description_width": ""
     }
    },
    "f6c6ef3fd94a4eedb79b85b575a946a3": {
     "model_module": "@jupyter-widgets/controls",
     "model_module_version": "1.5.0",
     "model_name": "HBoxModel",
     "state": {
      "_dom_classes": [],
      "_model_module": "@jupyter-widgets/controls",
      "_model_module_version": "1.5.0",
      "_model_name": "HBoxModel",
      "_view_count": null,
      "_view_module": "@jupyter-widgets/controls",
      "_view_module_version": "1.5.0",
      "_view_name": "HBoxView",
      "box_style": "",
      "children": [
       "IPY_MODEL_18e128b90f414859863699468fe36b59",
       "IPY_MODEL_0f673d1fe53d49f69b4ca1a3a2f6fdfa",
       "IPY_MODEL_69301eba2eac4fc6820b5fc90b696047"
      ],
      "layout": "IPY_MODEL_4f5b912ed8bd4e7fa181282ab369c125"
     }
    }
   }
  }
 },
 "nbformat": 4,
 "nbformat_minor": 4
}
