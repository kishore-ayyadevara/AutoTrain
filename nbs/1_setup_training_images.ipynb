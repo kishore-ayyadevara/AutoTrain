{
 "cells": [
  {
   "cell_type": "code",
   "execution_count": null,
   "metadata": {},
   "outputs": [],
   "source": [
    "# default_exp setup_images"
   ]
  },
  {
   "cell_type": "markdown",
   "metadata": {},
   "source": [
    "# Restructure training data"
   ]
  },
  {
   "cell_type": "code",
   "execution_count": 79,
   "metadata": {
    "execution": {
     "iopub.execute_input": "2021-08-17T14:47:53.375781Z",
     "iopub.status.busy": "2021-08-17T14:47:53.375438Z",
     "iopub.status.idle": "2021-08-17T14:47:53.383863Z",
     "shell.execute_reply": "2021-08-17T14:47:53.382889Z",
     "shell.execute_reply.started": "2021-08-17T14:47:53.375751Z"
    },
    "tags": []
   },
   "outputs": [],
   "source": [
    "# export\n",
    "from torch_snippets import *\n",
    "from torch_snippets.registry import *\n",
    "import typer\n",
    "\n",
    "app = typer.Typer()\n",
    "\n",
    "@app.command()\n",
    "def setup_training_data_for_labeling(config_path, label_studio_dump):\n",
    "    config = AttrDict(Config().from_disk(config_path))\n",
    "    df = pd.read_csv(label_studio_dump)\n",
    "    np.random.seed(42)\n",
    "    df['split'] = np.random.choice(\n",
    "        ['train_dir', 'validation_dir'], \n",
    "        size=len(df), replace=True, \n",
    "        p=[config.training.train_ratio, 1-config.training.train_ratio]\n",
    "    )\n",
    "\n",
    "    for ix, row in df.iterrows():\n",
    "        row = row.squeeze()\n",
    "        _from = P(row.image.replace('/data', config.label_studio.base_data_dir+'/media/'))\n",
    "        _to = P(config.training.data[row.split])/fname(_from)\n",
    "        makedir(_to.parent)\n",
    "        print(f'{str(_from):50} --> {str(_to):>50} {\" \":20} {(1+ix)/len(df)*100:.2f}%')\n",
    "        _from.cp(_to)\n",
    "        \n",
    "        \n",
    "if __name__ == '__main__':\n",
    "    app()"
   ]
  },
  {
   "cell_type": "code",
   "execution_count": 80,
   "metadata": {
    "execution": {
     "iopub.execute_input": "2021-08-17T14:47:53.611506Z",
     "iopub.status.busy": "2021-08-17T14:47:53.611015Z",
     "iopub.status.idle": "2021-08-17T14:47:53.647058Z",
     "shell.execute_reply": "2021-08-17T14:47:53.646270Z",
     "shell.execute_reply.started": "2021-08-17T14:47:53.611424Z"
    },
    "tags": []
   },
   "outputs": [
    {
     "name": "stdout",
     "output_type": "stream",
     "text": [
      "/tmp/data/media/upload/2_rjPZUuC.jpg               -->    /tmp/data/apples_vs_oranges/train/2_rjPZUuC.jpg                      0.00%\n",
      "/tmp/data/media/upload/1_1msuPBK.jpg               -->     /tmp/data/apples_vs_oranges/test/1_1msuPBK.jpg                      8.33%\n",
      "/tmp/data/media/upload/1.jpg                       -->            /tmp/data/apples_vs_oranges/train/1.jpg                      16.67%\n",
      "/tmp/data/media/upload/0.jpg                       -->            /tmp/data/apples_vs_oranges/train/0.jpg                      25.00%\n",
      "/tmp/data/media/upload/5_mhMhdd9.jpg               -->    /tmp/data/apples_vs_oranges/train/5_mhMhdd9.jpg                      33.33%\n",
      "/tmp/data/media/upload/4_5Tn6px2.jpg               -->    /tmp/data/apples_vs_oranges/train/4_5Tn6px2.jpg                      41.67%\n",
      "/tmp/data/media/upload/3_Yy73bVZ.jpg               -->    /tmp/data/apples_vs_oranges/train/3_Yy73bVZ.jpg                      50.00%\n",
      "/tmp/data/media/upload/0_64tBzfw.jpg               -->     /tmp/data/apples_vs_oranges/test/0_64tBzfw.jpg                      58.33%\n",
      "/tmp/data/media/upload/5.jpg                       -->            /tmp/data/apples_vs_oranges/train/5.jpg                      66.67%\n",
      "/tmp/data/media/upload/4.jpg                       -->            /tmp/data/apples_vs_oranges/train/4.jpg                      75.00%\n",
      "/tmp/data/media/upload/3.jpg                       -->            /tmp/data/apples_vs_oranges/train/3.jpg                      83.33%\n",
      "/tmp/data/media/upload/2.jpg                       -->             /tmp/data/apples_vs_oranges/test/2.jpg                      91.67%\n"
     ]
    }
   ],
   "source": [
    "# Usage\n",
    "setup_training_data_for_labeling(\n",
    "    '../config.ini',\n",
    "    '/Users/yreddy31/Downloads/project-1-at-2021-08-17-13-55-ea141bab.csv'\n",
    ")"
   ]
  },
  {
   "cell_type": "code",
   "execution_count": null,
   "metadata": {},
   "outputs": [],
   "source": []
  }
 ],
 "metadata": {
  "kernelspec": {
   "display_name": "Python 3",
   "language": "python",
   "name": "python3"
  },
  "language_info": {
   "codemirror_mode": {
    "name": "ipython",
    "version": 3
   },
   "file_extension": ".py",
   "mimetype": "text/x-python",
   "name": "python",
   "nbconvert_exporter": "python",
   "pygments_lexer": "ipython3",
   "version": "3.7.4"
  }
 },
 "nbformat": 4,
 "nbformat_minor": 4
}
