{
 "cells": [
  {
   "cell_type": "markdown",
   "metadata": {
    "colab_type": "text",
    "id": "view-in-github"
   },
   "source": [
    "<a href=\"https://colab.research.google.com/github/sizhky/AutoTrain/blob/segmentation/nbs/segmentation.ipynb\" target=\"_parent\"><img src=\"https://colab.research.google.com/assets/colab-badge.svg\" alt=\"Open In Colab\"/></a>"
   ]
  },
  {
   "cell_type": "markdown",
   "metadata": {
    "id": "vvYRuYZiX3MM"
   },
   "source": [
    "## Setup Data and Libraries"
   ]
  },
  {
   "cell_type": "code",
   "execution_count": 1,
   "metadata": {
    "id": "oIrJ5qt-X3MQ"
   },
   "outputs": [],
   "source": [
    "%%capture\n",
    "# Setup imports\n",
    "try:\n",
    "    import timm\n",
    "except:\n",
    "    !pip install -U torch-snippets typer imgaug timm fastai"
   ]
  },
  {
   "cell_type": "code",
   "execution_count": 2,
   "metadata": {
    "colab": {
     "base_uri": "https://localhost:8080/"
    },
    "id": "alIUAVLwXTqC",
    "outputId": "c5ae1db0-6555-4246-d583-5543ec9d79af",
    "tags": []
   },
   "outputs": [
    {
     "name": "stdout",
     "output_type": "stream",
     "text": [
      "/mnt/d04d289c-d0a7-4fd4-b883-ff227b3a8695/githubs/AutoTrain\n"
     ]
    }
   ],
   "source": [
    "# Setup Data\n",
    "%load_ext autoreload\n",
    "%autoreload 2\n",
    "\n",
    "from torch_snippets import *\n",
    "\n",
    "# If running locally from AutoTrain/nbs\n",
    "if not os.path.exists('/content') and P().resolve().stem != 'AutoTrain':\n",
    "    %cd ..\n",
    "\n",
    "# If running from colab\n",
    "if os.path.exists('/content') and not os.path.exists('/content/AutoTrain'):\n",
    "    !git clone https://github.com/sizhky/AutoTrain\n",
    "\n",
    "# change present working directory\n",
    "if not P().resolve().stem == 'AutoTrain':\n",
    "    %cd AutoTrain\n",
    "\n",
    "# !git pull origin enhancement/fastai-classification\n",
    "# !git checkout enhancement/fastai-classification\n",
    "\n",
    "if not os.path.exists('imagenette2-160'):\n",
    "    untar_data(URLs.IMAGENETTE_160).mv('./')\n"
   ]
  },
  {
   "cell_type": "markdown",
   "metadata": {
    "id": "QdN8I3h9X3MS"
   },
   "source": [
    "## Verify Config"
   ]
  },
  {
   "cell_type": "code",
   "execution_count": 3,
   "metadata": {
    "colab": {
     "base_uri": "https://localhost:8080/"
    },
    "id": "PrcRNnKF8BBv",
    "outputId": "c83628a2-fc59-4eed-f446-a7fff76bc4af",
    "tags": []
   },
   "outputs": [
    {
     "name": "stdout",
     "output_type": "stream",
     "text": [
      "[project]\n",
      "owner: sizhky\n",
      "name: imagenette2\n",
      "location: ${project.name}\n",
      "model_directory: ${project.location}/models\n",
      "type: classification\n",
      "num_classes: 10\n",
      "\n",
      "[label_studio]\n",
      "base_data_dir: /tmp/data/\n",
      "\n",
      "[label_studio_ml]\n",
      "app_name: ${project.name}/my_ml_model\n",
      "script_path: auto_train_classification/script_classification.py\n",
      "\n",
      "[online_training]\n",
      "save_dir: ${project.model_directory}/model.pt\n",
      "\n",
      "[architecture]\n",
      "image_size: 224\n",
      "[architecture.backbone]\n",
      "model: efficientnet_b0\n",
      "# everytime you change the model, vector size \n",
      "# must match the model's backbone output.\n",
      "vector_size: 1280\n",
      "[architecture.head]\n",
      "@head: custom_head\n",
      "head_input_size: ${architecture.backbone.vector_size}\n",
      "num_classes: ${project.num_classes}\n",
      "\n",
      "[training]\n",
      "dir: imagenette2-160\n",
      "train_ratio: 0.8\n",
      "[training.preprocess]\n",
      "@preprocess_function: my_preprocess\n",
      "image_size: ${architecture.image_size}\n",
      "\n",
      "[training.data]\n",
      "train_dir: ${training.dir}/train\n",
      "validation_dir: ${training.dir}/validation\n",
      "\n",
      "[training.scheme]\n",
      "epochs: 3\n",
      "freeze_epochs: 2\n",
      "initial_checkpoint: ${online_training.save_dir}\n",
      "# mixup augmentation\n",
      "mixup: 0.5\n",
      "# cutmix\n",
      "cutmix: 0.5 \n",
      "mixup_switch_prob: 0.3\n",
      "amp: true\n",
      "# random augmentations\n",
      "aa: rand-m9-mstd0.5\n",
      "batch_size: 2\n",
      "output: ${project.model_directory}/trained-model-v1\n",
      "\n",
      "[testing]\n",
      "[testing.preprocess]\n",
      "@preprocess_function: my_preprocess\n",
      "image_size: ${architecture.image_size}"
     ]
    }
   ],
   "source": [
    "!cat config_classification.ini"
   ]
  },
  {
   "cell_type": "code",
   "execution_count": 8,
   "metadata": {
    "id": "zi7vdHYVX3MU",
    "outputId": "c6d4f5de-1141-4c39-b4b1-11a08ba3842b"
   },
   "outputs": [
    {
     "name": "stdout",
     "output_type": "stream",
     "text": [
      "\u001b[32m2021-09-12 15:44:53.050\u001b[0m | \u001b[1mINFO    \u001b[0m | \u001b[36m__main__\u001b[0m:\u001b[36mtrain_model\u001b[0m:\u001b[36m32\u001b[0m - \u001b[1mTraining from scratch!\u001b[0m\n",
      "\u001b[32m2021-09-12 15:45:10.372\u001b[0m | \u001b[1mINFO    \u001b[0m | \u001b[36m__main__\u001b[0m:\u001b[36mfind_best_learning_rate\u001b[0m:\u001b[36m22\u001b[0m - \u001b[1mLR Plot is saved at imagenette2/find_lr_plot.png\u001b[0m\n",
      "\u001b[32m2021-09-12 15:45:10.372\u001b[0m | \u001b[1mINFO    \u001b[0m | \u001b[36m__main__\u001b[0m:\u001b[36mfind_best_learning_rate\u001b[0m:\u001b[36m23\u001b[0m - \u001b[1mSuggested LRs: 0.0006309573538601399 and 0.001737800776027143\u001b[0m\n",
      "\u001b[32m2021-09-12 15:45:10.372\u001b[0m | \u001b[1mINFO    \u001b[0m | \u001b[36m__main__\u001b[0m:\u001b[36mtrain_model\u001b[0m:\u001b[36m37\u001b[0m - \u001b[1mUsing lr: 0.001737800776027143\u001b[0m\n",
      "['Epoch, Train Loss, Validation Loss, Validation Accuracy, Time']\n",
      "[0, 0.8093251585960388, 0.5401224493980408, 0.8287898302078247, '00:22']\n",
      "[0, 0.5413949489593506, 0.3546662926673889, 0.8896815180778503, '00:26']\n",
      "\u001b[32m2021-09-12 15:45:59.883\u001b[0m | \u001b[1mINFO    \u001b[0m | \u001b[36m__main__\u001b[0m:\u001b[36mtrain_model\u001b[0m:\u001b[36m47\u001b[0m - \u001b[1mSaved weights of size ~18 MB to imagenette2/models/trained-model-v1/my_model.pt\u001b[0m\n"
     ]
    }
   ],
   "source": [
    "os.environ['CONFIG'] = 'config_classification.ini'\n",
    "!python auto_train_classification/train.py"
   ]
  },
  {
   "cell_type": "markdown",
   "metadata": {
    "id": "t4hih3a9X3MW"
   },
   "source": [
    "---\n",
    "## Validate"
   ]
  },
  {
   "cell_type": "code",
   "execution_count": 26,
   "metadata": {
    "colab": {
     "base_uri": "https://localhost:8080/",
     "height": 1000,
     "referenced_widgets": [
      "690db993b5094b3a96cb768d95b02224",
      "5b5eca0260364f26bcd3dbaebab2d576",
      "12683b354c14469c85a6d94cbf108a6a",
      "918d041a343d4f5f9300a76a31f1cbb6",
      "178aec8e78ea4bd295c7904d3229be53",
      "13f7be8044a34854bb9ee8509d1a8979",
      "acd6bb83eab546e79634c3338718c036",
      "154e7bacfcd34737899695d5f63c7b3e",
      "1ebac03bdd0742d0bc4e6c029f9c18d2",
      "b8bed86d27744ff79a7d1ba5c94aa677",
      "8f611c01a088465d85d89e61a20ad22c"
     ]
    },
    "id": "oN76ajz-X3MX",
    "outputId": "9f6aa4fe-7360-4596-8e36-ac3d2f976f39"
   },
   "outputs": [
    {
     "data": {
      "text/html": [],
      "text/plain": [
       "<IPython.core.display.HTML object>"
      ]
     },
     "metadata": {},
     "output_type": "display_data"
    },
    {
     "data": {
      "text/html": [],
      "text/plain": [
       "<IPython.core.display.HTML object>"
      ]
     },
     "metadata": {},
     "output_type": "display_data"
    },
    {
     "data": {
      "text/html": [],
      "text/plain": [
       "<IPython.core.display.HTML object>"
      ]
     },
     "metadata": {},
     "output_type": "display_data"
    },
    {
     "data": {
      "text/html": [],
      "text/plain": [
       "<IPython.core.display.HTML object>"
      ]
     },
     "metadata": {},
     "output_type": "display_data"
    },
    {
     "data": {
      "text/plain": [
       "[(» imagenette2-160/val/n01440764/n01440764_11881.JPEG,\n",
       "  'n01440764',\n",
       "  tensor(0.99511)),\n",
       " (» imagenette2-160/val/n01440764/n01440764_12971.JPEG,\n",
       "  'n01440764',\n",
       "  tensor(0.58467)),\n",
       " (» imagenette2-160/val/n01440764/n01440764_1951.JPEG,\n",
       "  'n03888257',\n",
       "  tensor(0.25995)),\n",
       " (» imagenette2-160/val/n01440764/n01440764_12250.JPEG,\n",
       "  'n01440764',\n",
       "  tensor(0.97597))]"
      ]
     },
     "execution_count": 26,
     "metadata": {},
     "output_type": "execute_result"
    }
   ],
   "source": [
    "from auto_train_classification.infer import infer, learn\n",
    "infer('imagenette2-160/val/n01440764/')"
   ]
  }
 ],
 "metadata": {
  "accelerator": "GPU",
  "colab": {
   "collapsed_sections": [],
   "include_colab_link": true,
   "name": "auto_train_segmentation.ipynb",
   "provenance": []
  },
  "kernelspec": {
   "display_name": "Python 3",
   "language": "python",
   "name": "python3"
  },
  "language_info": {
   "codemirror_mode": {
    "name": "ipython",
    "version": 3
   },
   "file_extension": ".py",
   "mimetype": "text/x-python",
   "name": "python",
   "nbconvert_exporter": "python",
   "pygments_lexer": "ipython3",
   "version": "3.7.6"
  },
  "widgets": {
   "application/vnd.jupyter.widget-state+json": {
    "12683b354c14469c85a6d94cbf108a6a": {
     "model_module": "@jupyter-widgets/controls",
     "model_module_version": "1.5.0",
     "model_name": "HTMLModel",
     "state": {
      "_dom_classes": [],
      "_model_module": "@jupyter-widgets/controls",
      "_model_module_version": "1.5.0",
      "_model_name": "HTMLModel",
      "_view_count": null,
      "_view_module": "@jupyter-widgets/controls",
      "_view_module_version": "1.5.0",
      "_view_name": "HTMLView",
      "description": "",
      "description_tooltip": null,
      "layout": "IPY_MODEL_acd6bb83eab546e79634c3338718c036",
      "placeholder": "​",
      "style": "IPY_MODEL_13f7be8044a34854bb9ee8509d1a8979",
      "value": "100%"
     }
    },
    "13f7be8044a34854bb9ee8509d1a8979": {
     "model_module": "@jupyter-widgets/controls",
     "model_module_version": "1.5.0",
     "model_name": "DescriptionStyleModel",
     "state": {
      "_model_module": "@jupyter-widgets/controls",
      "_model_module_version": "1.5.0",
      "_model_name": "DescriptionStyleModel",
      "_view_count": null,
      "_view_module": "@jupyter-widgets/base",
      "_view_module_version": "1.2.0",
      "_view_name": "StyleView",
      "description_width": ""
     }
    },
    "154e7bacfcd34737899695d5f63c7b3e": {
     "model_module": "@jupyter-widgets/controls",
     "model_module_version": "1.5.0",
     "model_name": "ProgressStyleModel",
     "state": {
      "_model_module": "@jupyter-widgets/controls",
      "_model_module_version": "1.5.0",
      "_model_name": "ProgressStyleModel",
      "_view_count": null,
      "_view_module": "@jupyter-widgets/base",
      "_view_module_version": "1.2.0",
      "_view_name": "StyleView",
      "bar_color": null,
      "description_width": ""
     }
    },
    "178aec8e78ea4bd295c7904d3229be53": {
     "model_module": "@jupyter-widgets/controls",
     "model_module_version": "1.5.0",
     "model_name": "HTMLModel",
     "state": {
      "_dom_classes": [],
      "_model_module": "@jupyter-widgets/controls",
      "_model_module_version": "1.5.0",
      "_model_name": "HTMLModel",
      "_view_count": null,
      "_view_module": "@jupyter-widgets/controls",
      "_view_module_version": "1.5.0",
      "_view_name": "HTMLView",
      "description": "",
      "description_tooltip": null,
      "layout": "IPY_MODEL_8f611c01a088465d85d89e61a20ad22c",
      "placeholder": "​",
      "style": "IPY_MODEL_b8bed86d27744ff79a7d1ba5c94aa677",
      "value": " 4/4 [00:11&lt;00:00,  2.88s/it]"
     }
    },
    "1ebac03bdd0742d0bc4e6c029f9c18d2": {
     "model_module": "@jupyter-widgets/base",
     "model_module_version": "1.2.0",
     "model_name": "LayoutModel",
     "state": {
      "_model_module": "@jupyter-widgets/base",
      "_model_module_version": "1.2.0",
      "_model_name": "LayoutModel",
      "_view_count": null,
      "_view_module": "@jupyter-widgets/base",
      "_view_module_version": "1.2.0",
      "_view_name": "LayoutView",
      "align_content": null,
      "align_items": null,
      "align_self": null,
      "border": null,
      "bottom": null,
      "display": null,
      "flex": null,
      "flex_flow": null,
      "grid_area": null,
      "grid_auto_columns": null,
      "grid_auto_flow": null,
      "grid_auto_rows": null,
      "grid_column": null,
      "grid_gap": null,
      "grid_row": null,
      "grid_template_areas": null,
      "grid_template_columns": null,
      "grid_template_rows": null,
      "height": null,
      "justify_content": null,
      "justify_items": null,
      "left": null,
      "margin": null,
      "max_height": null,
      "max_width": null,
      "min_height": null,
      "min_width": null,
      "object_fit": null,
      "object_position": null,
      "order": null,
      "overflow": null,
      "overflow_x": null,
      "overflow_y": null,
      "padding": null,
      "right": null,
      "top": null,
      "visibility": null,
      "width": null
     }
    },
    "5b5eca0260364f26bcd3dbaebab2d576": {
     "model_module": "@jupyter-widgets/base",
     "model_module_version": "1.2.0",
     "model_name": "LayoutModel",
     "state": {
      "_model_module": "@jupyter-widgets/base",
      "_model_module_version": "1.2.0",
      "_model_name": "LayoutModel",
      "_view_count": null,
      "_view_module": "@jupyter-widgets/base",
      "_view_module_version": "1.2.0",
      "_view_name": "LayoutView",
      "align_content": null,
      "align_items": null,
      "align_self": null,
      "border": null,
      "bottom": null,
      "display": null,
      "flex": null,
      "flex_flow": null,
      "grid_area": null,
      "grid_auto_columns": null,
      "grid_auto_flow": null,
      "grid_auto_rows": null,
      "grid_column": null,
      "grid_gap": null,
      "grid_row": null,
      "grid_template_areas": null,
      "grid_template_columns": null,
      "grid_template_rows": null,
      "height": null,
      "justify_content": null,
      "justify_items": null,
      "left": null,
      "margin": null,
      "max_height": null,
      "max_width": null,
      "min_height": null,
      "min_width": null,
      "object_fit": null,
      "object_position": null,
      "order": null,
      "overflow": null,
      "overflow_x": null,
      "overflow_y": null,
      "padding": null,
      "right": null,
      "top": null,
      "visibility": null,
      "width": null
     }
    },
    "690db993b5094b3a96cb768d95b02224": {
     "model_module": "@jupyter-widgets/controls",
     "model_module_version": "1.5.0",
     "model_name": "HBoxModel",
     "state": {
      "_dom_classes": [],
      "_model_module": "@jupyter-widgets/controls",
      "_model_module_version": "1.5.0",
      "_model_name": "HBoxModel",
      "_view_count": null,
      "_view_module": "@jupyter-widgets/controls",
      "_view_module_version": "1.5.0",
      "_view_name": "HBoxView",
      "box_style": "",
      "children": [
       "IPY_MODEL_12683b354c14469c85a6d94cbf108a6a",
       "IPY_MODEL_918d041a343d4f5f9300a76a31f1cbb6",
       "IPY_MODEL_178aec8e78ea4bd295c7904d3229be53"
      ],
      "layout": "IPY_MODEL_5b5eca0260364f26bcd3dbaebab2d576"
     }
    },
    "8f611c01a088465d85d89e61a20ad22c": {
     "model_module": "@jupyter-widgets/base",
     "model_module_version": "1.2.0",
     "model_name": "LayoutModel",
     "state": {
      "_model_module": "@jupyter-widgets/base",
      "_model_module_version": "1.2.0",
      "_model_name": "LayoutModel",
      "_view_count": null,
      "_view_module": "@jupyter-widgets/base",
      "_view_module_version": "1.2.0",
      "_view_name": "LayoutView",
      "align_content": null,
      "align_items": null,
      "align_self": null,
      "border": null,
      "bottom": null,
      "display": null,
      "flex": null,
      "flex_flow": null,
      "grid_area": null,
      "grid_auto_columns": null,
      "grid_auto_flow": null,
      "grid_auto_rows": null,
      "grid_column": null,
      "grid_gap": null,
      "grid_row": null,
      "grid_template_areas": null,
      "grid_template_columns": null,
      "grid_template_rows": null,
      "height": null,
      "justify_content": null,
      "justify_items": null,
      "left": null,
      "margin": null,
      "max_height": null,
      "max_width": null,
      "min_height": null,
      "min_width": null,
      "object_fit": null,
      "object_position": null,
      "order": null,
      "overflow": null,
      "overflow_x": null,
      "overflow_y": null,
      "padding": null,
      "right": null,
      "top": null,
      "visibility": null,
      "width": null
     }
    },
    "918d041a343d4f5f9300a76a31f1cbb6": {
     "model_module": "@jupyter-widgets/controls",
     "model_module_version": "1.5.0",
     "model_name": "FloatProgressModel",
     "state": {
      "_dom_classes": [],
      "_model_module": "@jupyter-widgets/controls",
      "_model_module_version": "1.5.0",
      "_model_name": "FloatProgressModel",
      "_view_count": null,
      "_view_module": "@jupyter-widgets/controls",
      "_view_module_version": "1.5.0",
      "_view_name": "ProgressView",
      "bar_style": "success",
      "description": "",
      "description_tooltip": null,
      "layout": "IPY_MODEL_1ebac03bdd0742d0bc4e6c029f9c18d2",
      "max": 4,
      "min": 0,
      "orientation": "horizontal",
      "style": "IPY_MODEL_154e7bacfcd34737899695d5f63c7b3e",
      "value": 4
     }
    },
    "acd6bb83eab546e79634c3338718c036": {
     "model_module": "@jupyter-widgets/base",
     "model_module_version": "1.2.0",
     "model_name": "LayoutModel",
     "state": {
      "_model_module": "@jupyter-widgets/base",
      "_model_module_version": "1.2.0",
      "_model_name": "LayoutModel",
      "_view_count": null,
      "_view_module": "@jupyter-widgets/base",
      "_view_module_version": "1.2.0",
      "_view_name": "LayoutView",
      "align_content": null,
      "align_items": null,
      "align_self": null,
      "border": null,
      "bottom": null,
      "display": null,
      "flex": null,
      "flex_flow": null,
      "grid_area": null,
      "grid_auto_columns": null,
      "grid_auto_flow": null,
      "grid_auto_rows": null,
      "grid_column": null,
      "grid_gap": null,
      "grid_row": null,
      "grid_template_areas": null,
      "grid_template_columns": null,
      "grid_template_rows": null,
      "height": null,
      "justify_content": null,
      "justify_items": null,
      "left": null,
      "margin": null,
      "max_height": null,
      "max_width": null,
      "min_height": null,
      "min_width": null,
      "object_fit": null,
      "object_position": null,
      "order": null,
      "overflow": null,
      "overflow_x": null,
      "overflow_y": null,
      "padding": null,
      "right": null,
      "top": null,
      "visibility": null,
      "width": null
     }
    },
    "b8bed86d27744ff79a7d1ba5c94aa677": {
     "model_module": "@jupyter-widgets/controls",
     "model_module_version": "1.5.0",
     "model_name": "DescriptionStyleModel",
     "state": {
      "_model_module": "@jupyter-widgets/controls",
      "_model_module_version": "1.5.0",
      "_model_name": "DescriptionStyleModel",
      "_view_count": null,
      "_view_module": "@jupyter-widgets/base",
      "_view_module_version": "1.2.0",
      "_view_name": "StyleView",
      "description_width": ""
     }
    }
   }
  }
 },
 "nbformat": 4,
 "nbformat_minor": 4
}
