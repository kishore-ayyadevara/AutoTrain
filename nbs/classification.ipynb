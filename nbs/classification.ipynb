{
  "nbformat": 4,
  "nbformat_minor": 0,
  "metadata": {
    "accelerator": "GPU",
    "colab": {
      "name": "auto_train_segmentation.ipynb",
      "provenance": [],
      "collapsed_sections": [],
      "include_colab_link": true
    },
    "kernelspec": {
      "display_name": "Python 3",
      "language": "python",
      "name": "python3"
    },
    "language_info": {
      "codemirror_mode": {
        "name": "ipython",
        "version": 3
      },
      "file_extension": ".py",
      "mimetype": "text/x-python",
      "name": "python",
      "nbconvert_exporter": "python",
      "pygments_lexer": "ipython3",
      "version": "3.7.6"
    }
  },
  "cells": [
    {
      "cell_type": "markdown",
      "metadata": {
        "id": "view-in-github",
        "colab_type": "text"
      },
      "source": [
        "<a href=\"https://colab.research.google.com/github/sizhky/AutoTrain/blob/master/nbs/classification.ipynb\" target=\"_parent\"><img src=\"https://colab.research.google.com/assets/colab-badge.svg\" alt=\"Open In Colab\"/></a>"
      ]
    },
    {
      "cell_type": "markdown",
      "metadata": {
        "id": "vvYRuYZiX3MM"
      },
      "source": [
        "## Setup Data and Libraries"
      ]
    },
    {
      "cell_type": "code",
      "metadata": {
        "id": "oIrJ5qt-X3MQ"
      },
      "source": [
        "%%capture\n",
        "# Setup imports\n",
        "try:\n",
        "    import timm\n",
        "except:\n",
        "    !pip install -U torch-snippets typer imgaug timm fastai"
      ],
      "execution_count": 1,
      "outputs": []
    },
    {
      "cell_type": "code",
      "metadata": {
        "colab": {
          "base_uri": "https://localhost:8080/"
        },
        "id": "alIUAVLwXTqC",
        "tags": [],
        "outputId": "5d1ceab6-b430-467b-d835-83ec310f6925"
      },
      "source": [
        "# Setup Data\n",
        "%load_ext autoreload\n",
        "%autoreload 2\n",
        "\n",
        "from torch_snippets import *\n",
        "from fastai.vision.all import *\n",
        "\n",
        "# If running locally from AutoTrain/nbs\n",
        "if not os.path.exists('/content') and P().resolve().stem != 'AutoTrain':\n",
        "    %cd ..\n",
        "\n",
        "# If running from colab\n",
        "if os.path.exists('/content') and not os.path.exists('/content/AutoTrain'):\n",
        "    !git clone https://github.com/sizhky/AutoTrain\n",
        "\n",
        "# change present working directory\n",
        "if not P().resolve().stem == 'AutoTrain':\n",
        "    %cd AutoTrain\n",
        "\n",
        "# !git pull origin enhancement/fastai-classification\n",
        "# !git checkout enhancement/fastai-classification\n",
        "\n",
        "if not os.path.exists('imagenette2-160'):\n",
        "    o = untar_data(URLs.IMAGENETTE_160)\n",
        "    !cp -r {o} ./\n"
      ],
      "execution_count": 2,
      "outputs": [
        {
          "output_type": "stream",
          "name": "stderr",
          "text": [
            "2021-09-12 10:54:00.601 | WARNING  | torch_snippets:<module>:13 - sklearn is not found. Skipping relevant imports from submodule `sklegos`\n",
            "Exception: No module named 'sklego'\n"
          ]
        },
        {
          "output_type": "stream",
          "name": "stdout",
          "text": [
            "/content/AutoTrain\n"
          ]
        }
      ]
    },
    {
      "cell_type": "markdown",
      "metadata": {
        "id": "QdN8I3h9X3MS"
      },
      "source": [
        "## Verify Config"
      ]
    },
    {
      "cell_type": "code",
      "metadata": {
        "colab": {
          "base_uri": "https://localhost:8080/"
        },
        "id": "PrcRNnKF8BBv",
        "tags": [],
        "outputId": "2e735b6f-a8c6-4eaf-d698-a7db475ee907"
      },
      "source": [
        "!cat configs/classification_imagenette.ini"
      ],
      "execution_count": 6,
      "outputs": [
        {
          "output_type": "stream",
          "name": "stdout",
          "text": [
            "[project]\n",
            "owner: sizhky\n",
            "name: imagenette\n",
            "location: ${project.name}\n",
            "model_directory: ${project.location}/models\n",
            "type: classification\n",
            "num_classes: 10\n",
            "\n",
            "[label_studio]\n",
            "base_data_dir: /tmp/data/\n",
            "\n",
            "[label_studio_ml]\n",
            "app_name: ${project.name}/my_ml_model\n",
            "script_path: auto_train_classification/script_classification.py\n",
            "\n",
            "[online_training]\n",
            "save_dir: ${project.model_directory}/model.pt\n",
            "\n",
            "[architecture]\n",
            "image_size: 224\n",
            "[architecture.backbone]\n",
            "model: efficientnet_b0\n",
            "# everytime you change the model, vector size \n",
            "# must match the model's backbone output.\n",
            "vector_size: 1280\n",
            "[architecture.head]\n",
            "@head: custom_head\n",
            "head_input_size: ${architecture.backbone.vector_size}\n",
            "num_classes: ${project.num_classes}\n",
            "\n",
            "[training]\n",
            "dir: imagenette2-160\n",
            "train_ratio: 0.8\n",
            "[training.preprocess]\n",
            "@preprocess_function: my_preprocess\n",
            "image_size: ${architecture.image_size}\n",
            "\n",
            "[training.data]\n",
            "train_dir: ${training.dir}/train\n",
            "validation_dir: ${training.dir}/validation\n",
            "\n",
            "[training.scheme]\n",
            "epochs: 2\n",
            "freeze_epochs: 2\n",
            "# initial_checkpoint: ${online_training.save_dir}\n",
            "# mixup augmentation\n",
            "mixup: 0.5\n",
            "# cutmix\n",
            "cutmix: 0.5 \n",
            "mixup_switch_prob: 0.3\n",
            "amp: true\n",
            "# random augmentations\n",
            "aa: rand-m9-mstd0.5\n",
            "batch_size: 2\n",
            "output: ${project.model_directory}/trained-model-v1\n",
            "output_path: ${output}/mymodel.pt\n",
            "\n",
            "[testing]\n",
            "[testing.preprocess]\n",
            "@preprocess_function: my_preprocess\n",
            "image_size: ${architecture.image_size}"
          ]
        }
      ]
    },
    {
      "cell_type": "code",
      "metadata": {
        "id": "zi7vdHYVX3MU",
        "colab": {
          "base_uri": "https://localhost:8080/"
        },
        "outputId": "190f7f50-e806-4ff2-f51e-e363ad2c6d88"
      },
      "source": [
        "os.environ['CONFIG'] = 'configs/classification_imagenette.ini'\n",
        "!python auto_train_classification/train.py"
      ],
      "execution_count": 4,
      "outputs": [
        {
          "output_type": "stream",
          "name": "stdout",
          "text": [
            "\u001b[32m2021-09-12 10:54:08.444\u001b[0m | \u001b[33m\u001b[1mWARNING \u001b[0m | \u001b[36mtorch_snippets\u001b[0m:\u001b[36m<module>\u001b[0m:\u001b[36m13\u001b[0m - \u001b[33m\u001b[1msklearn is not found. Skipping relevant imports from submodule `sklegos`\n",
            "Exception: No module named 'sklego'\u001b[0m\n",
            "\u001b[32m2021-09-12 10:54:12.406\u001b[0m | \u001b[1mINFO    \u001b[0m | \u001b[36m__main__\u001b[0m:\u001b[36mtrain_model\u001b[0m:\u001b[36m35\u001b[0m - \u001b[1mTraining from scratch!\u001b[0m\n",
            "\u001b[32m2021-09-12 10:54:44.110\u001b[0m | \u001b[1mINFO    \u001b[0m | \u001b[36m__main__\u001b[0m:\u001b[36mfind_best_learning_rate\u001b[0m:\u001b[36m22\u001b[0m - \u001b[1mLR Plot is saved at imagenette/find_lr_plot.png\u001b[0m\n",
            "\u001b[32m2021-09-12 10:54:44.111\u001b[0m | \u001b[1mINFO    \u001b[0m | \u001b[36m__main__\u001b[0m:\u001b[36mtrain_model\u001b[0m:\u001b[36m40\u001b[0m - \u001b[1mUsing lr: 0.00013182566908653826\u001b[0m\n",
            "(2, 0.00013182566908653826, 2)\n",
            "['Epoch, Train Loss, Validation Loss, Validation Accuracy, Time']\n",
            "[0, 1.8888294696807861, 1.5228769779205322, 0.6402547955513, '00:51']\n",
            "[1, 0.9272148609161377, 0.628566563129425, 0.8568152785301208, '00:50']\n",
            "[0, 0.6768947243690491, 0.5767525434494019, 0.8654776811599731, '00:59']\n",
            "[1, 0.6188012957572937, 0.5099591612815857, 0.8672611713409424, '00:59']\n",
            "\u001b[32m2021-09-12 10:58:24.313\u001b[0m | \u001b[1mINFO    \u001b[0m | \u001b[36m__main__\u001b[0m:\u001b[36mtrain_model\u001b[0m:\u001b[36m55\u001b[0m - \u001b[1mSaved weights of size ~18 MB to imagenette/models/trained-model-v1/mymodel.pt\u001b[0m\n"
          ]
        }
      ]
    },
    {
      "cell_type": "markdown",
      "metadata": {
        "id": "t4hih3a9X3MW"
      },
      "source": [
        "---\n",
        "## Validate"
      ]
    },
    {
      "cell_type": "code",
      "metadata": {
        "colab": {
          "base_uri": "https://localhost:8080/",
          "height": 258
        },
        "id": "oN76ajz-X3MX",
        "outputId": "ca896e00-c482-49e9-ddc8-cff6f0265d1e"
      },
      "source": [
        "from auto_train_classification.infer import infer\n",
        "infer('imagenette2-160/val/n01440764/')"
      ],
      "execution_count": 5,
      "outputs": [
        {
          "output_type": "stream",
          "name": "stderr",
          "text": [
            "2021-09-12 10:58:32.598 | INFO     | auto_train_classification.infer:<module>:6 - Loaded weights from imagenette/models/trained-model-v1/mymodel.pt to given model\n"
          ]
        },
        {
          "output_type": "display_data",
          "data": {
            "text/html": [
              ""
            ],
            "text/plain": [
              "<IPython.core.display.HTML object>"
            ]
          },
          "metadata": {}
        },
        {
          "output_type": "display_data",
          "data": {
            "text/html": [
              ""
            ],
            "text/plain": [
              "<IPython.core.display.HTML object>"
            ]
          },
          "metadata": {}
        },
        {
          "output_type": "display_data",
          "data": {
            "text/html": [
              ""
            ],
            "text/plain": [
              "<IPython.core.display.HTML object>"
            ]
          },
          "metadata": {}
        },
        {
          "output_type": "display_data",
          "data": {
            "text/html": [
              ""
            ],
            "text/plain": [
              "<IPython.core.display.HTML object>"
            ]
          },
          "metadata": {}
        },
        {
          "output_type": "execute_result",
          "data": {
            "text/plain": [
              "[(» imagenette2-160/val/n01440764/n01440764_2290.JPEG,\n",
              "  'n01440764',\n",
              "  tensor(0.6419)),\n",
              " (» imagenette2-160/val/n01440764/n01440764_12111.JPEG,\n",
              "  'n01440764',\n",
              "  tensor(0.9974)),\n",
              " (» imagenette2-160/val/n01440764/n01440764_7571.JPEG,\n",
              "  'n03394916',\n",
              "  tensor(0.2307)),\n",
              " (» imagenette2-160/val/n01440764/n01440764_31170.JPEG,\n",
              "  'n01440764',\n",
              "  tensor(0.9769))]"
            ]
          },
          "metadata": {},
          "execution_count": 5
        }
      ]
    },
    {
      "cell_type": "code",
      "metadata": {
        "id": "tCRQRgDIkR1r"
      },
      "source": [
        ""
      ],
      "execution_count": null,
      "outputs": []
    }
  ]
}