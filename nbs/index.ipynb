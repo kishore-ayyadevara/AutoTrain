{
 "cells": [
  {
   "cell_type": "markdown",
   "source": [
    "# Workflow\n",
    "\n",
    "```bash\n",
    "$ chmod +x setup.sh\n",
    "$ ./setup.sh --config project.conf\n",
    "$ label-studio &\n",
    "$ label-studio-ml init my_ml_backend --script script.py &\n",
    "$ python timm/train.py --config project.conf\n",
    "```\n"
   ],
   "metadata": {}
  },
  {
   "cell_type": "code",
   "execution_count": null,
   "source": [],
   "outputs": [],
   "metadata": {}
  }
 ],
 "metadata": {
  "orig_nbformat": 4,
  "language_info": {
   "name": "python",
   "version": "3.7.4",
   "mimetype": "text/x-python",
   "codemirror_mode": {
    "name": "ipython",
    "version": 3
   },
   "pygments_lexer": "ipython3",
   "nbconvert_exporter": "python",
   "file_extension": ".py"
  },
  "kernelspec": {
   "name": "python3",
   "display_name": "Python 3.7.4 64-bit ('base': conda)"
  },
  "interpreter": {
   "hash": "8d538e5ce6bd11d0a90a803e166f5e89b4044a057854b61a754392f4d26e4306"
  }
 },
 "nbformat": 4,
 "nbformat_minor": 2
}