{
 "cells": [
  {
   "cell_type": "markdown",
   "metadata": {},
   "source": [
    "# Workflow\n",
    "\n",
    "```bash\n",
    "# 1. Create setup for starting label-studio using config.ini\n",
    "$ python auto_train/setup.py\n",
    "\n",
    "# 2. start labelling and online-training\n",
    "$ ./setup.sh \n",
    "# Once done download the labels file to local\n",
    "# Ctrl+C to exit\n",
    "\n",
    "# 3. below command will copy images into the right folder structure for training\n",
    "$ python auto_train/setup_images.py config.ini ~/Downloads/project-label-studio-dump.csv\n",
    "\n",
    "# 4. train in timm\n",
    "$ python timm/train.py -c config.ini\n",
    "```\n"
   ]
  },
  {
   "cell_type": "code",
   "execution_count": null,
   "metadata": {},
   "outputs": [],
   "source": []
  }
 ],
 "metadata": {
  "interpreter": {
   "hash": "8d538e5ce6bd11d0a90a803e166f5e89b4044a057854b61a754392f4d26e4306"
  },
  "kernelspec": {
   "display_name": "Python 3",
   "language": "python",
   "name": "python3"
  },
  "language_info": {
   "codemirror_mode": {
    "name": "ipython",
    "version": 3
   },
   "file_extension": ".py",
   "mimetype": "text/x-python",
   "name": "python",
   "nbconvert_exporter": "python",
   "pygments_lexer": "ipython3",
   "version": "3.7.4"
  }
 },
 "nbformat": 4,
 "nbformat_minor": 4
}
