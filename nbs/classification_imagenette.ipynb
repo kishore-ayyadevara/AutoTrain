{
 "cells": [
  {
   "cell_type": "markdown",
   "metadata": {
    "colab_type": "text",
    "id": "view-in-github"
   },
   "source": [
    "<a href=\"https://colab.research.google.com/github/sizhky/AutoTrain/blob/master/nbs/classification.ipynb\" target=\"_parent\"><img src=\"https://colab.research.google.com/assets/colab-badge.svg\" alt=\"Open In Colab\"/></a>"
   ]
  },
  {
   "cell_type": "markdown",
   "metadata": {
    "id": "vvYRuYZiX3MM"
   },
   "source": [
    "## Setup Data and Libraries"
   ]
  },
  {
   "cell_type": "code",
   "execution_count": 1,
   "metadata": {
    "id": "oIrJ5qt-X3MQ"
   },
   "outputs": [],
   "source": [
    "%%capture\n",
    "# Setup imports\n",
    "try:\n",
    "    import timm\n",
    "except:\n",
    "    !pip install -U torch-snippets typer imgaug timm fastai"
   ]
  },
  {
   "cell_type": "code",
   "execution_count": 2,
   "metadata": {
    "colab": {
     "base_uri": "https://localhost:8080/"
    },
    "id": "alIUAVLwXTqC",
    "outputId": "5d1ceab6-b430-467b-d835-83ec310f6925",
    "tags": []
   },
   "outputs": [
    {
     "name": "stderr",
     "output_type": "stream",
     "text": [
      "2021-09-28 23:10:55.410 | WARNING  | torch_snippets:<module>:13 - sklearn is not found. Skipping relevant imports from submodule `sklegos`\n",
      "Exception: No module named 'sklego'\n"
     ]
    },
    {
     "name": "stdout",
     "output_type": "stream",
     "text": [
      "/mnt/sda1/code/AutoTrain\n"
     ]
    }
   ],
   "source": [
    "# Setup Data\n",
    "%load_ext autoreload\n",
    "%autoreload 2\n",
    "\n",
    "from torch_snippets import *\n",
    "from fastai.vision.all import *\n",
    "\n",
    "# If running locally from AutoTrain/nbs\n",
    "if not os.path.exists('/content') and P().resolve().stem != 'AutoTrain':\n",
    "    %cd ..\n",
    "\n",
    "# If running from colab\n",
    "if os.path.exists('/content') and not os.path.exists('/content/AutoTrain'):\n",
    "    !git clone https://github.com/sizhky/AutoTrain\n",
    "\n",
    "# change present working directory\n",
    "if not P().resolve().stem == 'AutoTrain':\n",
    "    %cd AutoTrain\n",
    "    \n",
    "sys.path.append(str(P().resolve()))\n",
    "\n",
    "# !git pull origin enhancement/fastai-classification\n",
    "# !git checkout enhancement/fastai-classification\n",
    "\n",
    "if not os.path.exists('imagenette2-160'):\n",
    "    o = untar_data(URLs.IMAGENETTE_160)\n",
    "    !cp -r {o} ./\n"
   ]
  },
  {
   "cell_type": "markdown",
   "metadata": {
    "id": "QdN8I3h9X3MS"
   },
   "source": [
    "## Verify Config"
   ]
  },
  {
   "cell_type": "code",
   "execution_count": 3,
   "metadata": {
    "colab": {
     "base_uri": "https://localhost:8080/"
    },
    "id": "PrcRNnKF8BBv",
    "outputId": "2e735b6f-a8c6-4eaf-d698-a7db475ee907",
    "tags": []
   },
   "outputs": [
    {
     "name": "stdout",
     "output_type": "stream",
     "text": [
      "[project]\n",
      "owner: sizhky\n",
      "name: imagenette\n",
      "location: ${project.name}\n",
      "model_directory: ${project.location}/models\n",
      "type: classification\n",
      "num_classes: 10\n",
      "\n",
      "[architecture]\n",
      "image_size: 224\n",
      "[architecture.backbone]\n",
      "model: efficientnet_b0\n",
      "# everytime you change the model, vector size \n",
      "# must match the model's backbone output.\n",
      "vector_size: 1280\n",
      "[architecture.head]\n",
      "@head: custom_head\n",
      "head_input_size: ${architecture.backbone.vector_size}\n",
      "num_classes: ${project.num_classes}\n",
      "\n",
      "[training]\n",
      "dir: imagenette2-160\n",
      "train_ratio: 0.8\n",
      "[training.preprocess]\n",
      "@preprocess_function: my_preprocess\n",
      "image_size: ${architecture.image_size}\n",
      "\n",
      "[training.data]\n",
      "train_dir: ${training.dir}/train\n",
      "validation_dir: ${training.dir}/validation\n",
      "\n",
      "[training.scheme]\n",
      "epochs: 2\n",
      "freeze_epochs: 2\n",
      "# initial_checkpoint: ${online_training.save_dir}\n",
      "# mixup augmentation\n",
      "mixup: 0.5\n",
      "# cutmix\n",
      "cutmix: 0.5 \n",
      "mixup_switch_prob: 0.3\n",
      "amp: true\n",
      "# random augmentations\n",
      "aa: rand-m9-mstd0.5\n",
      "batch_size: 2\n",
      "output: ${project.model_directory}/trained-model-v1\n",
      "output_path: ${training.scheme.output}/model.pth\n",
      "\n",
      "[testing]\n",
      "[testing.preprocess]\n",
      "@preprocess_function: my_preprocess\n",
      "image_size: ${architecture.image_size}\n"
     ]
    }
   ],
   "source": [
    "!cat configs/classification_imagenette.ini"
   ]
  },
  {
   "cell_type": "code",
   "execution_count": 4,
   "metadata": {},
   "outputs": [
    {
     "name": "stdout",
     "output_type": "stream",
     "text": [
      "\u001b[32m2021-09-28 23:10:57.602\u001b[0m | \u001b[33m\u001b[1mWARNING \u001b[0m | \u001b[36mtorch_snippets\u001b[0m:\u001b[36m<module>\u001b[0m:\u001b[36m13\u001b[0m - \u001b[33m\u001b[1msklearn is not found. Skipping relevant imports from submodule `sklegos`\n",
      "Exception: No module named 'sklego'\u001b[0m\n",
      "\u001b[32m2021-09-28 23:11:02.918\u001b[0m | \u001b[1mINFO    \u001b[0m | \u001b[36mauto_train.classification.train\u001b[0m:\u001b[36mtrain_model\u001b[0m:\u001b[36m35\u001b[0m - \u001b[1mTraining from scratch!\u001b[0m\n",
      "\u001b[32m2021-09-28 23:12:25.539\u001b[0m | \u001b[1mINFO    \u001b[0m | \u001b[36mauto_train.classification.train\u001b[0m:\u001b[36mfind_best_learning_rate\u001b[0m:\u001b[36m22\u001b[0m - \u001b[1mLR Plot is saved at imagenette/find_lr_plot.png\u001b[0m\n",
      "\u001b[32m2021-09-28 23:12:25.539\u001b[0m | \u001b[1mINFO    \u001b[0m | \u001b[36mauto_train.classification.train\u001b[0m:\u001b[36mtrain_model\u001b[0m:\u001b[36m40\u001b[0m - \u001b[1mUsing lr: 0.00019054606673307717\u001b[0m\n",
      "['Epoch, Train Loss, Validation Loss, Validation Accuracy, Time']\n",
      "[0, 1.7839301824569702, None, None, '00:44']\n",
      "[1, 0.7984605431556702, None, None, '00:30']\n",
      "[0, 0.6154054403305054, None, None, '00:19']\n",
      "[1, 0.5618246793746948, None, None, '00:18']\n",
      "\u001b[32m2021-09-28 23:14:19.238\u001b[0m | \u001b[1mINFO    \u001b[0m | \u001b[36mauto_train.classification.train\u001b[0m:\u001b[36mtrain_model\u001b[0m:\u001b[36m50\u001b[0m - \u001b[1mSaved weights of size ~18 MB to imagenette/models/trained-model-v1/model.pth\u001b[0m\n"
     ]
    }
   ],
   "source": [
    "import os; os.environ['CONFIG'] = 'configs/classification_imagenette.ini'\n",
    "!python main.py train --task=classification"
   ]
  },
  {
   "cell_type": "code",
   "execution_count": 5,
   "metadata": {},
   "outputs": [
    {
     "name": "stdout",
     "output_type": "stream",
     "text": [
      "\u001b[32m2021-09-28 23:14:24.824\u001b[0m | \u001b[33m\u001b[1mWARNING \u001b[0m | \u001b[36mtorch_snippets\u001b[0m:\u001b[36m<module>\u001b[0m:\u001b[36m13\u001b[0m - \u001b[33m\u001b[1msklearn is not found. Skipping relevant imports from submodule `sklegos`\n",
      "Exception: No module named 'sklego'\u001b[0m\n",
      "\u001b[32m2021-09-28 23:14:31.105\u001b[0m | \u001b[1mINFO    \u001b[0m | \u001b[36mauto_train.classification.infer\u001b[0m:\u001b[36m<module>\u001b[0m:\u001b[36m6\u001b[0m - \u001b[1mLoaded weights from imagenette/models/trained-model-v1/model.pth to given model\u001b[0m\n",
      "\u001b[32m2021-09-28 23:14:31.644\u001b[0m | \u001b[34m\u001b[1mDEBUG   \u001b[0m | \u001b[36m__main__\u001b[0m:\u001b[36minfer\u001b[0m:\u001b[36m31\u001b[0m - \u001b[34m\u001b[1m\n",
      "[\n",
      "    {\n",
      "        \"file\": \"/mnt/sda1/code/AutoTrain/imagenette2-160/val/n02102040/n02102040_6892.JPEG\",\n",
      "        \"prediction\": \"n02102040\",\n",
      "        \"confidence\": \"50.11%\"\n",
      "    },\n",
      "    {\n",
      "        \"file\": \"/mnt/sda1/code/AutoTrain/imagenette2-160/val/n02102040/n02102040_3640.JPEG\",\n",
      "        \"prediction\": \"n02102040\",\n",
      "        \"confidence\": \"67.61%\"\n",
      "    },\n",
      "    {\n",
      "        \"file\": \"/mnt/sda1/code/AutoTrain/imagenette2-160/val/n02102040/n02102040_1980.JPEG\",\n",
      "        \"prediction\": \"n02102040\",\n",
      "        \"confidence\": \"98.55%\"\n",
      "    },\n",
      "    {\n",
      "        \"file\": \"/mnt/sda1/code/AutoTrain/imagenette2-160/val/n02102040/n02102040_4481.JPEG\",\n",
      "        \"prediction\": \"n02102040\",\n",
      "        \"confidence\": \"93.99%\"\n",
      "    }\n",
      "]\u001b[0m\n"
     ]
    }
   ],
   "source": [
    "import os; os.environ['CONFIG'] = 'configs/classification_imagenette.ini'\n",
    "!python main.py infer --task=classification --folder='imagenette2-160/val/n02102040/'"
   ]
  },
  {
   "cell_type": "code",
   "execution_count": null,
   "metadata": {
    "id": "tCRQRgDIkR1r"
   },
   "outputs": [],
   "source": []
  }
 ],
 "metadata": {
  "accelerator": "GPU",
  "colab": {
   "collapsed_sections": [],
   "include_colab_link": true,
   "name": "auto_train_segmentation.ipynb",
   "provenance": []
  },
  "kernelspec": {
   "display_name": "Python 3 (ipykernel)",
   "language": "python",
   "name": "python3"
  },
  "language_info": {
   "codemirror_mode": {
    "name": "ipython",
    "version": 3
   },
   "file_extension": ".py",
   "mimetype": "text/x-python",
   "name": "python",
   "nbconvert_exporter": "python",
   "pygments_lexer": "ipython3",
   "version": "3.9.5"
  }
 },
 "nbformat": 4,
 "nbformat_minor": 4
}
