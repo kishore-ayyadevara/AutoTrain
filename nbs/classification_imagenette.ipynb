{
 "cells": [
  {
   "cell_type": "markdown",
   "metadata": {
    "colab_type": "text",
    "id": "view-in-github"
   },
   "source": [
    "<a href=\"https://colab.research.google.com/github/sizhky/AutoTrain/blob/master/nbs/classification.ipynb\" target=\"_parent\"><img src=\"https://colab.research.google.com/assets/colab-badge.svg\" alt=\"Open In Colab\"/></a>"
   ]
  },
  {
   "cell_type": "markdown",
   "metadata": {
    "id": "vvYRuYZiX3MM"
   },
   "source": [
    "## Setup Data and Libraries"
   ]
  },
  {
   "cell_type": "code",
   "execution_count": 1,
   "metadata": {
    "id": "oIrJ5qt-X3MQ"
   },
   "outputs": [],
   "source": [
    "%%capture\n",
    "%load_ext autoreload\n",
    "%autoreload 2\n",
    "# Setup imports\n",
    "try:\n",
    "    import timm\n",
    "except:\n",
    "    !pip install -U torch-snippets typer imgaug timm fastai"
   ]
  },
  {
   "cell_type": "code",
   "execution_count": 2,
   "metadata": {
    "colab": {
     "base_uri": "https://localhost:8080/"
    },
    "id": "alIUAVLwXTqC",
    "outputId": "5d1ceab6-b430-467b-d835-83ec310f6925",
    "tags": []
   },
   "outputs": [
    {
     "name": "stdout",
     "output_type": "stream",
     "text": [
      "/mnt/sda1/code/AutoTrain\n"
     ]
    }
   ],
   "source": [
    "# Setup Data\n",
    "from torch_snippets import *\n",
    "from fastai.vision.all import *\n",
    "\n",
    "# If running locally from AutoTrain/nbs\n",
    "if not os.path.exists('/content') and P().resolve().stem != 'AutoTrain':\n",
    "    %cd ..\n",
    "\n",
    "# If running from colab\n",
    "if os.path.exists('/content') and not os.path.exists('/content/AutoTrain'):\n",
    "    !git clone https://github.com/sizhky/AutoTrain\n",
    "\n",
    "# change present working directory\n",
    "if not P().resolve().stem == 'AutoTrain':\n",
    "    %cd AutoTrain\n",
    "    \n",
    "sys.path.append(str(P().resolve()))"
   ]
  },
  {
   "cell_type": "markdown",
   "metadata": {
    "id": "QdN8I3h9X3MS"
   },
   "source": [
    "## Verify Config"
   ]
  },
  {
   "cell_type": "code",
   "execution_count": 3,
   "metadata": {
    "colab": {
     "base_uri": "https://localhost:8080/"
    },
    "id": "PrcRNnKF8BBv",
    "outputId": "2e735b6f-a8c6-4eaf-d698-a7db475ee907",
    "tags": []
   },
   "outputs": [
    {
     "name": "stdout",
     "output_type": "stream",
     "text": [
      "[project]\n",
      "owner: sizhky\n",
      "name: imagenette\n",
      "location: ${project.name}\n",
      "model_directory: ${project.location}/models\n",
      "type: classification\n",
      "num_classes: 10\n",
      "data_source_url: https://s3.amazonaws.com/fast-ai-imageclas/imagenette2-160.tgz\n",
      "\n",
      "[architecture]\n",
      "image_size: 224\n",
      "[architecture.backbone]\n",
      "model: efficientnet_b0\n",
      "# everytime you change the model, vector size \n",
      "# must match the model's backbone output.\n",
      "vector_size: 1280\n",
      "[architecture.head]\n",
      "@head: custom_head\n",
      "head_input_size: ${architecture.backbone.vector_size}\n",
      "num_classes: ${project.num_classes}\n",
      "\n",
      "[training]\n",
      "dir: /home/yyr/data/imagenette2-160\n",
      "train_ratio: 0.8\n",
      "[training.preprocess]\n",
      "@preprocess_function: my_preprocess\n",
      "image_size: ${architecture.image_size}\n",
      "\n",
      "[training.data]\n",
      "train_dir: ${training.dir}/train\n",
      "validation_dir: ${training.dir}/validation\n",
      "\n",
      "[training.scheme]\n",
      "epochs: 2\n",
      "freeze_epochs: 2\n",
      "# initial_checkpoint: ${online_training.save_dir}\n",
      "# mixup augmentation\n",
      "mixup: 0.5\n",
      "# cutmix\n",
      "cutmix: 0.5 \n",
      "mixup_switch_prob: 0.3\n",
      "amp: true\n",
      "# random augmentations\n",
      "aa: rand-m9-mstd0.5\n",
      "batch_size: 2\n",
      "output: ${project.model_directory}/trained-model-v1\n",
      "output_path: ${training.scheme.output}/model.pth\n",
      "\n",
      "[testing]\n",
      "[testing.preprocess]\n",
      "@preprocess_function: my_preprocess\n",
      "image_size: ${architecture.image_size}\n"
     ]
    }
   ],
   "source": [
    "!cat configs/classification_imagenette.ini"
   ]
  },
  {
   "cell_type": "code",
   "execution_count": 5,
   "metadata": {},
   "outputs": [
    {
     "name": "stdout",
     "output_type": "stream",
     "text": [
      "Traceback (most recent call last):\n",
      "  File \"/mnt/sda1/code/AutoTrain/main.py\", line 34, in <module>\n",
      "    cli()\n",
      "  File \"/home/yyr/miniconda3/lib/python3.9/site-packages/typer/main.py\", line 214, in __call__\n",
      "    return get_command(self)(*args, **kwargs)\n",
      "  File \"/home/yyr/miniconda3/lib/python3.9/site-packages/click/core.py\", line 829, in __call__\n",
      "    return self.main(*args, **kwargs)\n",
      "  File \"/home/yyr/miniconda3/lib/python3.9/site-packages/click/core.py\", line 782, in main\n",
      "    rv = self.invoke(ctx)\n",
      "  File \"/home/yyr/miniconda3/lib/python3.9/site-packages/click/core.py\", line 1259, in invoke\n",
      "    return _process_result(sub_ctx.command.invoke(sub_ctx))\n",
      "  File \"/home/yyr/miniconda3/lib/python3.9/site-packages/click/core.py\", line 1066, in invoke\n",
      "    return ctx.invoke(self.callback, **ctx.params)\n",
      "  File \"/home/yyr/miniconda3/lib/python3.9/site-packages/click/core.py\", line 610, in invoke\n",
      "    return callback(*args, **kwargs)\n",
      "  File \"/home/yyr/miniconda3/lib/python3.9/site-packages/typer/main.py\", line 497, in wrapper\n",
      "    return callback(**use_params)  # type: ignore\n",
      "  File \"/mnt/sda1/code/AutoTrain/main.py\", line 22, in train\n",
      "    from auto_train.classification.train import train_model\n",
      "  File \"/mnt/sda1/code/AutoTrain/auto_train/classification/train.py\", line 2, in <module>\n",
      "    from auto_train.classification.model import config, ClassificationModel\n",
      "ImportError: cannot import name 'config' from 'auto_train.classification.model' (/mnt/sda1/code/AutoTrain/auto_train/classification/model.py)\n"
     ]
    }
   ],
   "source": [
    "import os; os.environ['CONFIG'] = 'configs/classification_imagenette.ini'\n",
    "!python main.py train --task=classification"
   ]
  },
  {
   "cell_type": "code",
   "execution_count": 5,
   "metadata": {},
   "outputs": [
    {
     "name": "stdout",
     "output_type": "stream",
     "text": [
      "\u001b[32m2021-09-28 23:14:24.824\u001b[0m | \u001b[33m\u001b[1mWARNING \u001b[0m | \u001b[36mtorch_snippets\u001b[0m:\u001b[36m<module>\u001b[0m:\u001b[36m13\u001b[0m - \u001b[33m\u001b[1msklearn is not found. Skipping relevant imports from submodule `sklegos`\n",
      "Exception: No module named 'sklego'\u001b[0m\n",
      "\u001b[32m2021-09-28 23:14:31.105\u001b[0m | \u001b[1mINFO    \u001b[0m | \u001b[36mauto_train.classification.infer\u001b[0m:\u001b[36m<module>\u001b[0m:\u001b[36m6\u001b[0m - \u001b[1mLoaded weights from imagenette/models/trained-model-v1/model.pth to given model\u001b[0m\n",
      "\u001b[32m2021-09-28 23:14:31.644\u001b[0m | \u001b[34m\u001b[1mDEBUG   \u001b[0m | \u001b[36m__main__\u001b[0m:\u001b[36minfer\u001b[0m:\u001b[36m31\u001b[0m - \u001b[34m\u001b[1m\n",
      "[\n",
      "    {\n",
      "        \"file\": \"/mnt/sda1/code/AutoTrain/imagenette2-160/val/n02102040/n02102040_6892.JPEG\",\n",
      "        \"prediction\": \"n02102040\",\n",
      "        \"confidence\": \"50.11%\"\n",
      "    },\n",
      "    {\n",
      "        \"file\": \"/mnt/sda1/code/AutoTrain/imagenette2-160/val/n02102040/n02102040_3640.JPEG\",\n",
      "        \"prediction\": \"n02102040\",\n",
      "        \"confidence\": \"67.61%\"\n",
      "    },\n",
      "    {\n",
      "        \"file\": \"/mnt/sda1/code/AutoTrain/imagenette2-160/val/n02102040/n02102040_1980.JPEG\",\n",
      "        \"prediction\": \"n02102040\",\n",
      "        \"confidence\": \"98.55%\"\n",
      "    },\n",
      "    {\n",
      "        \"file\": \"/mnt/sda1/code/AutoTrain/imagenette2-160/val/n02102040/n02102040_4481.JPEG\",\n",
      "        \"prediction\": \"n02102040\",\n",
      "        \"confidence\": \"93.99%\"\n",
      "    }\n",
      "]\u001b[0m\n"
     ]
    }
   ],
   "source": [
    "import os; os.environ['CONFIG'] = 'configs/classification_imagenette.ini'\n",
    "!python main.py infer --task=classification --folder='imagenette2-160/val/n02102040/'"
   ]
  },
  {
   "cell_type": "code",
   "execution_count": null,
   "metadata": {
    "id": "tCRQRgDIkR1r"
   },
   "outputs": [],
   "source": []
  }
 ],
 "metadata": {
  "accelerator": "GPU",
  "colab": {
   "collapsed_sections": [],
   "include_colab_link": true,
   "name": "auto_train_segmentation.ipynb",
   "provenance": []
  },
  "kernelspec": {
   "display_name": "Python 3 (ipykernel)",
   "language": "python",
   "name": "python3"
  },
  "language_info": {
   "codemirror_mode": {
    "name": "ipython",
    "version": 3
   },
   "file_extension": ".py",
   "mimetype": "text/x-python",
   "name": "python",
   "nbconvert_exporter": "python",
   "pygments_lexer": "ipython3",
   "version": "3.9.5"
  }
 },
 "nbformat": 4,
 "nbformat_minor": 4
}
