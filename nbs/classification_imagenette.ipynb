{
 "cells": [
  {
   "cell_type": "markdown",
   "metadata": {
    "colab_type": "text",
    "id": "view-in-github"
   },
   "source": [
    "<a href=\"https://colab.research.google.com/github/sizhky/AutoTrain/blob/master/nbs/classification.ipynb\" target=\"_parent\"><img src=\"https://colab.research.google.com/assets/colab-badge.svg\" alt=\"Open In Colab\"/></a>"
   ]
  },
  {
   "cell_type": "markdown",
   "metadata": {
    "id": "vvYRuYZiX3MM"
   },
   "source": [
    "## Setup Data and Libraries"
   ]
  },
  {
   "cell_type": "code",
   "execution_count": 1,
   "metadata": {
    "id": "oIrJ5qt-X3MQ"
   },
   "outputs": [],
   "source": [
    "%%capture\n",
    "# Setup imports\n",
    "try:\n",
    "    import timm\n",
    "except:\n",
    "    !pip install -U torch-snippets typer imgaug timm fastai"
   ]
  },
  {
   "cell_type": "code",
   "execution_count": 2,
   "metadata": {
    "colab": {
     "base_uri": "https://localhost:8080/"
    },
    "id": "alIUAVLwXTqC",
    "outputId": "5d1ceab6-b430-467b-d835-83ec310f6925",
    "tags": []
   },
   "outputs": [
    {
     "name": "stderr",
     "output_type": "stream",
     "text": [
      "2021-09-25 10:14:08.940 | WARNING  | torch_snippets:<module>:13 - sklearn is not found. Skipping relevant imports from submodule `sklegos`\n",
      "Exception: No module named 'sklego'\n"
     ]
    },
    {
     "name": "stdout",
     "output_type": "stream",
     "text": [
      "/mnt/sda1/code/AutoTrain\n"
     ]
    }
   ],
   "source": [
    "# Setup Data\n",
    "%load_ext autoreload\n",
    "%autoreload 2\n",
    "\n",
    "from torch_snippets import *\n",
    "from fastai.vision.all import *\n",
    "\n",
    "# If running locally from AutoTrain/nbs\n",
    "if not os.path.exists('/content') and P().resolve().stem != 'AutoTrain':\n",
    "    %cd ..\n",
    "\n",
    "# If running from colab\n",
    "if os.path.exists('/content') and not os.path.exists('/content/AutoTrain'):\n",
    "    !git clone https://github.com/sizhky/AutoTrain\n",
    "\n",
    "# change present working directory\n",
    "if not P().resolve().stem == 'AutoTrain':\n",
    "    %cd AutoTrain\n",
    "    \n",
    "sys.path.append(str(P().resolve()))\n",
    "\n",
    "# !git pull origin enhancement/fastai-classification\n",
    "# !git checkout enhancement/fastai-classification\n",
    "\n",
    "if not os.path.exists('imagenette2-160'):\n",
    "    o = untar_data(URLs.IMAGENETTE_160)\n",
    "    !cp -r {o} ./\n"
   ]
  },
  {
   "cell_type": "markdown",
   "metadata": {
    "id": "QdN8I3h9X3MS"
   },
   "source": [
    "## Verify Config"
   ]
  },
  {
   "cell_type": "code",
   "execution_count": 3,
   "metadata": {
    "colab": {
     "base_uri": "https://localhost:8080/"
    },
    "id": "PrcRNnKF8BBv",
    "outputId": "2e735b6f-a8c6-4eaf-d698-a7db475ee907",
    "tags": []
   },
   "outputs": [
    {
     "name": "stdout",
     "output_type": "stream",
     "text": [
      "[project]\r\n",
      "owner: sizhky\r\n",
      "name: imagenette\r\n",
      "location: ${project.name}\r\n",
      "model_directory: ${project.location}/models\r\n",
      "type: classification\r\n",
      "num_classes: 10\r\n",
      "\r\n",
      "[architecture]\r\n",
      "image_size: 224\r\n",
      "[architecture.backbone]\r\n",
      "model: efficientnet_b0\r\n",
      "# everytime you change the model, vector size \r\n",
      "# must match the model's backbone output.\r\n",
      "vector_size: 1280\r\n",
      "[architecture.head]\r\n",
      "@head: custom_head\r\n",
      "head_input_size: ${architecture.backbone.vector_size}\r\n",
      "num_classes: ${project.num_classes}\r\n",
      "\r\n",
      "[training]\r\n",
      "dir: imagenette2-160\r\n",
      "train_ratio: 0.8\r\n",
      "[training.preprocess]\r\n",
      "@preprocess_function: my_preprocess\r\n",
      "image_size: ${architecture.image_size}\r\n",
      "\r\n",
      "[training.data]\r\n",
      "train_dir: ${training.dir}/train\r\n",
      "validation_dir: ${training.dir}/validation\r\n",
      "\r\n",
      "[training.scheme]\r\n",
      "epochs: 2\r\n",
      "freeze_epochs: 2\r\n",
      "# initial_checkpoint: ${online_training.save_dir}\r\n",
      "# mixup augmentation\r\n",
      "mixup: 0.5\r\n",
      "# cutmix\r\n",
      "cutmix: 0.5 \r\n",
      "mixup_switch_prob: 0.3\r\n",
      "amp: true\r\n",
      "# random augmentations\r\n",
      "aa: rand-m9-mstd0.5\r\n",
      "batch_size: 2\r\n",
      "output: ${project.model_directory}/trained-model-v1\r\n",
      "output_path: ${training.scheme.output}/model.pth\r\n",
      "\r\n",
      "[testing]\r\n",
      "[testing.preprocess]\r\n",
      "@preprocess_function: my_preprocess\r\n",
      "image_size: ${architecture.image_size}\r\n"
     ]
    }
   ],
   "source": [
    "!cat configs/classification_imagenette.ini"
   ]
  },
  {
   "cell_type": "code",
   "execution_count": null,
   "metadata": {},
   "outputs": [],
   "source": [
    "!python auto_train/main.py train --task=classification --config='configs/classification_imagenette.ini'\n",
    "!python auto_train/main.py validate --task=classification --config='configs/classification_imagenette.ini'"
   ]
  },
  {
   "cell_type": "code",
   "execution_count": null,
   "metadata": {
    "id": "tCRQRgDIkR1r"
   },
   "outputs": [],
   "source": []
  }
 ],
 "metadata": {
  "accelerator": "GPU",
  "colab": {
   "collapsed_sections": [],
   "include_colab_link": true,
   "name": "auto_train_segmentation.ipynb",
   "provenance": []
  },
  "kernelspec": {
   "display_name": "Python 3 (ipykernel)",
   "language": "python",
   "name": "python3"
  },
  "language_info": {
   "codemirror_mode": {
    "name": "ipython",
    "version": 3
   },
   "file_extension": ".py",
   "mimetype": "text/x-python",
   "name": "python",
   "nbconvert_exporter": "python",
   "pygments_lexer": "ipython3",
   "version": "3.9.5"
  }
 },
 "nbformat": 4,
 "nbformat_minor": 4
}
