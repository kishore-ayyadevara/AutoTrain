{
 "cells": [
  {
   "cell_type": "code",
   "execution_count": null,
   "metadata": {},
   "outputs": [],
   "source": [
    "%%capture\n",
    "!pip install -U torch-snippets typer imgaug"
   ]
  },
  {
   "cell_type": "code",
   "execution_count": null,
   "metadata": {},
   "outputs": [],
   "source": [
    "# Setup Data\n",
    "# %%capture\n",
    "%load_ext autoreload\n",
    "%autoreload 2\n",
    "\n",
    "from torch_snippets import *\n",
    "\n",
    "# If running locally from AutoTrain/nbs\n",
    "if not os.path.exists('/content') and P().resolve().stem != 'AutoTrain':\n",
    "    %cd ..\n",
    "\n",
    "if os.path.exists('/content') and not os.path.exists('/content/AutoTrain'):\n",
    "    !git clone https://github.com/sizhky/AutoTrain\n",
    "\n",
    "if not P().resolve().stem == 'AutoTrain':\n",
    "    %cd AutoTrain\n",
    "\n",
    "!git pull origin segmentation\n",
    "!git checkout segmentation\n",
    "\n",
    "if not os.path.exists('balloon.zip'):\n",
    "    !wget --quiet https://www.dropbox.com/s/tur7gzmuuzb2vzf/balloon.zip -O balloon.zip\n",
    "if not os.path.exists('balloon/data/'):\n",
    "    makedir('balloon')\n",
    "    unzip_file('balloon.zip', 'balloon/data/')"
   ]
  }
 ],
 "metadata": {
  "kernelspec": {
   "display_name": "Python 3",
   "language": "python",
   "name": "python3"
  },
  "language_info": {
   "codemirror_mode": {
    "name": "ipython",
    "version": 3
   },
   "file_extension": ".py",
   "mimetype": "text/x-python",
   "name": "python",
   "nbconvert_exporter": "python",
   "pygments_lexer": "ipython3",
   "version": "3.7.6"
  }
 },
 "nbformat": 4,
 "nbformat_minor": 4
}
